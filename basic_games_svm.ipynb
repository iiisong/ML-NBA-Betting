{
 "cells": [
  {
   "cell_type": "code",
   "execution_count": 27,
   "metadata": {},
   "outputs": [],
   "source": [
    "import numpy as np\n",
    "import pandas as pd\n",
    "import matplotlib.pyplot as plt\n",
    "\n",
    "from sklearn.model_selection import train_test_split, cross_val_score, StratifiedKFold\n",
    "from sklearn.svm import SVC\n",
    "from sklearn.metrics import accuracy_score, classification_report, roc_curve, auc\n",
    "\n",
    "import plotly.express as px\n",
    "import plotly.graph_objects as go\n"
   ]
  },
  {
   "cell_type": "code",
   "execution_count": 39,
   "metadata": {},
   "outputs": [],
   "source": [
    "def basicSVM(X_input, y_input):\n",
    "    X_train, X_test, y_train, y_test = train_test_split(X_input, y_input, test_size=.1)\n",
    "    svm_model = SVC(kernel='rbf', C=1.0) # kernel{‘linear’, ‘poly’, ‘rbf’, ‘sigmoid’, ‘precomputed’} \n",
    "    svm_model.fit(X_train, y_train.values.ravel())\n",
    "    y_pred = svm_model.predict(X_test)\n",
    "\n",
    "    accuracy = accuracy_score(y_test, y_pred)\n",
    "    \n",
    "    trace1 = go.Scatter(x=X_test.iloc[:, 0], y=X_test.iloc[:, 1],\n",
    "                        mode='markers', marker=dict(color=y_test, colorscale='Viridis', size=10),\n",
    "                        name='Actual')\n",
    "\n",
    "    trace2 = go.Scatter(x=X_test.iloc[:, 0], y=X_test.iloc[:, 1],\n",
    "                        mode='markers', marker=dict(color=y_pred, colorscale='Viridis', size=5, opacity=0.5),\n",
    "                        name='Predicted')\n",
    "\n",
    "    layout = go.Layout(title=f'SVM Results (Accuracy: {accuracy:.2f})',\n",
    "                        xaxis=dict(title='Feature 1'),\n",
    "                        yaxis=dict(title='Feature 2'))\n",
    "\n",
    "    fig = go.Figure(data=[trace1, trace2], layout=layout)\n",
    "\n",
    "    fig.show()\n",
    "\n",
    "    cv = StratifiedKFold(n_splits=3, shuffle=True, random_state=42)\n",
    "    scores = cross_val_score(svm_model, X_input, y_input.values.ravel(), cv=cv, scoring='accuracy')\n",
    "\n",
    "    print(f'Cross-Validation Accuracy: {scores.mean():.2f} (+/- {scores.std() * 2:.2f})')"
   ]
  },
  {
   "cell_type": "code",
   "execution_count": 38,
   "metadata": {},
   "outputs": [],
   "source": [
    "def SVM_ROC(X_input, y_input):\n",
    "    X_train, X_test, y_train, y_test = train_test_split(X_input, y_input, test_size=.1)\n",
    "    svm_model = SVC(kernel='poly', C=1.0, probability=True)  \n",
    "    svm_model.fit(X_train, y_train.values.ravel())\n",
    "    y_score = svm_model.decision_function(X_test)\n",
    "\n",
    "    fpr, tpr, _ = roc_curve(y_test, y_score)\n",
    "    roc_auc = auc(fpr, tpr)\n",
    "\n",
    "    plt.figure()\n",
    "    plt.plot(fpr, tpr, color='darkorange', lw=2, label='ROC curve (area = {:.2f})'.format(roc_auc))\n",
    "    plt.plot([0, 1], [0, 1], color='navy', lw=2, linestyle='--')\n",
    "    plt.xlabel('False Positive Rate')\n",
    "    plt.ylabel('True Positive Rate')\n",
    "    plt.title('ROC Curve')\n",
    "    plt.legend(loc='lower right')\n",
    "    plt.show()\n",
    "\n",
    "    cv = StratifiedKFold(n_splits=5, shuffle=True, random_state=42)\n",
    "    scores = cross_val_score(svm_model, X_input, y_input.values.ravel(), cv=cv, scoring='accuracy')\n",
    "\n",
    "    print(f'Cross-Validation Accuracy: {scores.mean():.2f} (+/- {scores.std() * 2:.2f})')"
   ]
  },
  {
   "cell_type": "code",
   "execution_count": 18,
   "metadata": {},
   "outputs": [
    {
     "data": {
      "text/html": [
       "<div>\n",
       "<style scoped>\n",
       "    .dataframe tbody tr th:only-of-type {\n",
       "        vertical-align: middle;\n",
       "    }\n",
       "\n",
       "    .dataframe tbody tr th {\n",
       "        vertical-align: top;\n",
       "    }\n",
       "\n",
       "    .dataframe thead th {\n",
       "        text-align: right;\n",
       "    }\n",
       "</style>\n",
       "<table border=\"1\" class=\"dataframe\">\n",
       "  <thead>\n",
       "    <tr style=\"text-align: right;\">\n",
       "      <th></th>\n",
       "      <th>Unnamed: 0</th>\n",
       "      <th>GAME_ID</th>\n",
       "      <th>SBR_GAME_ID</th>\n",
       "      <th>DATE</th>\n",
       "      <th>TEAM1_ID</th>\n",
       "      <th>TEAM2_ID</th>\n",
       "      <th>TEAM1_SCORE</th>\n",
       "      <th>TEAM2_SCORE</th>\n",
       "      <th>WINNER</th>\n",
       "      <th>away_prob</th>\n",
       "      <th>...</th>\n",
       "      <th>TEAM1_75wp</th>\n",
       "      <th>TEAM1_100wp</th>\n",
       "      <th>TEAM2_10wp</th>\n",
       "      <th>TEAM2_25wp</th>\n",
       "      <th>TEAM2_50wp</th>\n",
       "      <th>TEAM2_75wp</th>\n",
       "      <th>TEAM2_100wp</th>\n",
       "      <th>SCORE_DIFF</th>\n",
       "      <th>T1_WON</th>\n",
       "      <th>T2_WON</th>\n",
       "    </tr>\n",
       "  </thead>\n",
       "  <tbody>\n",
       "    <tr>\n",
       "      <th>1400</th>\n",
       "      <td>1399</td>\n",
       "      <td>21500895</td>\n",
       "      <td>20160301_nba_Atlanta_Golden State</td>\n",
       "      <td>20160301.0</td>\n",
       "      <td>1610612737</td>\n",
       "      <td>1610612744</td>\n",
       "      <td>105.0</td>\n",
       "      <td>109.0</td>\n",
       "      <td>2</td>\n",
       "      <td>0.338983</td>\n",
       "      <td>...</td>\n",
       "      <td>0.586667</td>\n",
       "      <td>0.61</td>\n",
       "      <td>0.9</td>\n",
       "      <td>0.88</td>\n",
       "      <td>0.92</td>\n",
       "      <td>0.880000</td>\n",
       "      <td>0.87</td>\n",
       "      <td>-4.0</td>\n",
       "      <td>0</td>\n",
       "      <td>1</td>\n",
       "    </tr>\n",
       "    <tr>\n",
       "      <th>1428</th>\n",
       "      <td>1425</td>\n",
       "      <td>21500929</td>\n",
       "      <td>20160305_nba_Atlanta_L.A. Clippers</td>\n",
       "      <td>20160305.0</td>\n",
       "      <td>1610612737</td>\n",
       "      <td>1610612746</td>\n",
       "      <td>107.0</td>\n",
       "      <td>97.0</td>\n",
       "      <td>1</td>\n",
       "      <td>0.338983</td>\n",
       "      <td>...</td>\n",
       "      <td>0.573333</td>\n",
       "      <td>0.62</td>\n",
       "      <td>0.7</td>\n",
       "      <td>0.72</td>\n",
       "      <td>0.66</td>\n",
       "      <td>0.720000</td>\n",
       "      <td>0.69</td>\n",
       "      <td>10.0</td>\n",
       "      <td>1</td>\n",
       "      <td>0</td>\n",
       "    </tr>\n",
       "    <tr>\n",
       "      <th>1445</th>\n",
       "      <td>1444</td>\n",
       "      <td>21500938</td>\n",
       "      <td>20160307_nba_Memphis_Cleveland</td>\n",
       "      <td>20160307.0</td>\n",
       "      <td>1610612763</td>\n",
       "      <td>1610612739</td>\n",
       "      <td>106.0</td>\n",
       "      <td>103.0</td>\n",
       "      <td>1</td>\n",
       "      <td>0.083333</td>\n",
       "      <td>...</td>\n",
       "      <td>0.560000</td>\n",
       "      <td>0.60</td>\n",
       "      <td>0.7</td>\n",
       "      <td>0.72</td>\n",
       "      <td>0.72</td>\n",
       "      <td>0.720000</td>\n",
       "      <td>0.73</td>\n",
       "      <td>3.0</td>\n",
       "      <td>1</td>\n",
       "      <td>0</td>\n",
       "    </tr>\n",
       "    <tr>\n",
       "      <th>1482</th>\n",
       "      <td>1477</td>\n",
       "      <td>21500974</td>\n",
       "      <td>20160312_nba_Memphis_Atlanta</td>\n",
       "      <td>20160312.0</td>\n",
       "      <td>1610612763</td>\n",
       "      <td>1610612737</td>\n",
       "      <td>83.0</td>\n",
       "      <td>95.0</td>\n",
       "      <td>2</td>\n",
       "      <td>0.090909</td>\n",
       "      <td>...</td>\n",
       "      <td>0.560000</td>\n",
       "      <td>0.59</td>\n",
       "      <td>0.5</td>\n",
       "      <td>0.52</td>\n",
       "      <td>0.56</td>\n",
       "      <td>0.600000</td>\n",
       "      <td>0.61</td>\n",
       "      <td>-12.0</td>\n",
       "      <td>0</td>\n",
       "      <td>1</td>\n",
       "    </tr>\n",
       "    <tr>\n",
       "      <th>1486</th>\n",
       "      <td>1485</td>\n",
       "      <td>21500985</td>\n",
       "      <td>20160313_nba_Milwaukee_Brooklyn</td>\n",
       "      <td>20160313.0</td>\n",
       "      <td>1610612749</td>\n",
       "      <td>1610612751</td>\n",
       "      <td>109.0</td>\n",
       "      <td>100.0</td>\n",
       "      <td>1</td>\n",
       "      <td>0.555556</td>\n",
       "      <td>...</td>\n",
       "      <td>0.440000</td>\n",
       "      <td>0.49</td>\n",
       "      <td>0.3</td>\n",
       "      <td>0.24</td>\n",
       "      <td>0.28</td>\n",
       "      <td>0.320000</td>\n",
       "      <td>0.36</td>\n",
       "      <td>9.0</td>\n",
       "      <td>1</td>\n",
       "      <td>0</td>\n",
       "    </tr>\n",
       "    <tr>\n",
       "      <th>...</th>\n",
       "      <td>...</td>\n",
       "      <td>...</td>\n",
       "      <td>...</td>\n",
       "      <td>...</td>\n",
       "      <td>...</td>\n",
       "      <td>...</td>\n",
       "      <td>...</td>\n",
       "      <td>...</td>\n",
       "      <td>...</td>\n",
       "      <td>...</td>\n",
       "      <td>...</td>\n",
       "      <td>...</td>\n",
       "      <td>...</td>\n",
       "      <td>...</td>\n",
       "      <td>...</td>\n",
       "      <td>...</td>\n",
       "      <td>...</td>\n",
       "      <td>...</td>\n",
       "      <td>...</td>\n",
       "      <td>...</td>\n",
       "      <td>...</td>\n",
       "    </tr>\n",
       "    <tr>\n",
       "      <th>9643</th>\n",
       "      <td>9640</td>\n",
       "      <td>22300008</td>\n",
       "      <td>20231110_nba_Philadelphia_Detroit</td>\n",
       "      <td>20231110.0</td>\n",
       "      <td>1610612755</td>\n",
       "      <td>1610612765</td>\n",
       "      <td>114.0</td>\n",
       "      <td>106.0</td>\n",
       "      <td>1</td>\n",
       "      <td>0.794872</td>\n",
       "      <td>...</td>\n",
       "      <td>0.720000</td>\n",
       "      <td>0.67</td>\n",
       "      <td>0.2</td>\n",
       "      <td>0.16</td>\n",
       "      <td>0.16</td>\n",
       "      <td>0.213333</td>\n",
       "      <td>0.22</td>\n",
       "      <td>8.0</td>\n",
       "      <td>1</td>\n",
       "      <td>0</td>\n",
       "    </tr>\n",
       "    <tr>\n",
       "      <th>9644</th>\n",
       "      <td>9646</td>\n",
       "      <td>22300011</td>\n",
       "      <td>20231110_nba_New Orleans_Houston</td>\n",
       "      <td>20231110.0</td>\n",
       "      <td>1610612740</td>\n",
       "      <td>1610612745</td>\n",
       "      <td>101.0</td>\n",
       "      <td>104.0</td>\n",
       "      <td>2</td>\n",
       "      <td>0.439560</td>\n",
       "      <td>...</td>\n",
       "      <td>0.493333</td>\n",
       "      <td>0.49</td>\n",
       "      <td>0.7</td>\n",
       "      <td>0.44</td>\n",
       "      <td>0.32</td>\n",
       "      <td>0.320000</td>\n",
       "      <td>0.29</td>\n",
       "      <td>-3.0</td>\n",
       "      <td>0</td>\n",
       "      <td>1</td>\n",
       "    </tr>\n",
       "    <tr>\n",
       "      <th>9645</th>\n",
       "      <td>9645</td>\n",
       "      <td>22300012</td>\n",
       "      <td>20231110_nba_Utah_Memphis</td>\n",
       "      <td>20231110.0</td>\n",
       "      <td>1610612762</td>\n",
       "      <td>1610612763</td>\n",
       "      <td>127.0</td>\n",
       "      <td>121.0</td>\n",
       "      <td>1</td>\n",
       "      <td>0.378072</td>\n",
       "      <td>...</td>\n",
       "      <td>0.386667</td>\n",
       "      <td>0.43</td>\n",
       "      <td>0.2</td>\n",
       "      <td>0.40</td>\n",
       "      <td>0.46</td>\n",
       "      <td>0.560000</td>\n",
       "      <td>0.55</td>\n",
       "      <td>6.0</td>\n",
       "      <td>1</td>\n",
       "      <td>0</td>\n",
       "    </tr>\n",
       "    <tr>\n",
       "      <th>9646</th>\n",
       "      <td>9641</td>\n",
       "      <td>22300013</td>\n",
       "      <td>20231110_nba_Minnesota_San Antonio</td>\n",
       "      <td>20231110.0</td>\n",
       "      <td>1610612750</td>\n",
       "      <td>1610612759</td>\n",
       "      <td>117.0</td>\n",
       "      <td>110.0</td>\n",
       "      <td>1</td>\n",
       "      <td>0.749355</td>\n",
       "      <td>...</td>\n",
       "      <td>0.520000</td>\n",
       "      <td>0.50</td>\n",
       "      <td>0.4</td>\n",
       "      <td>0.36</td>\n",
       "      <td>0.24</td>\n",
       "      <td>0.253333</td>\n",
       "      <td>0.31</td>\n",
       "      <td>7.0</td>\n",
       "      <td>1</td>\n",
       "      <td>0</td>\n",
       "    </tr>\n",
       "    <tr>\n",
       "      <th>9647</th>\n",
       "      <td>9647</td>\n",
       "      <td>22300010</td>\n",
       "      <td>20231110_nba_Brooklyn_Boston</td>\n",
       "      <td>20231110.0</td>\n",
       "      <td>1610612751</td>\n",
       "      <td>1610612738</td>\n",
       "      <td>107.0</td>\n",
       "      <td>121.0</td>\n",
       "      <td>2</td>\n",
       "      <td>0.174672</td>\n",
       "      <td>...</td>\n",
       "      <td>0.533333</td>\n",
       "      <td>0.51</td>\n",
       "      <td>0.7</td>\n",
       "      <td>0.56</td>\n",
       "      <td>0.62</td>\n",
       "      <td>0.653333</td>\n",
       "      <td>0.67</td>\n",
       "      <td>-14.0</td>\n",
       "      <td>0</td>\n",
       "      <td>1</td>\n",
       "    </tr>\n",
       "  </tbody>\n",
       "</table>\n",
       "<p>8108 rows × 25 columns</p>\n",
       "</div>"
      ],
      "text/plain": [
       "      Unnamed: 0   GAME_ID                         SBR_GAME_ID        DATE  \\\n",
       "1400        1399  21500895   20160301_nba_Atlanta_Golden State  20160301.0   \n",
       "1428        1425  21500929  20160305_nba_Atlanta_L.A. Clippers  20160305.0   \n",
       "1445        1444  21500938      20160307_nba_Memphis_Cleveland  20160307.0   \n",
       "1482        1477  21500974        20160312_nba_Memphis_Atlanta  20160312.0   \n",
       "1486        1485  21500985     20160313_nba_Milwaukee_Brooklyn  20160313.0   \n",
       "...          ...       ...                                 ...         ...   \n",
       "9643        9640  22300008   20231110_nba_Philadelphia_Detroit  20231110.0   \n",
       "9644        9646  22300011    20231110_nba_New Orleans_Houston  20231110.0   \n",
       "9645        9645  22300012           20231110_nba_Utah_Memphis  20231110.0   \n",
       "9646        9641  22300013  20231110_nba_Minnesota_San Antonio  20231110.0   \n",
       "9647        9647  22300010        20231110_nba_Brooklyn_Boston  20231110.0   \n",
       "\n",
       "        TEAM1_ID    TEAM2_ID  TEAM1_SCORE  TEAM2_SCORE  WINNER  away_prob  \\\n",
       "1400  1610612737  1610612744        105.0        109.0       2   0.338983   \n",
       "1428  1610612737  1610612746        107.0         97.0       1   0.338983   \n",
       "1445  1610612763  1610612739        106.0        103.0       1   0.083333   \n",
       "1482  1610612763  1610612737         83.0         95.0       2   0.090909   \n",
       "1486  1610612749  1610612751        109.0        100.0       1   0.555556   \n",
       "...          ...         ...          ...          ...     ...        ...   \n",
       "9643  1610612755  1610612765        114.0        106.0       1   0.794872   \n",
       "9644  1610612740  1610612745        101.0        104.0       2   0.439560   \n",
       "9645  1610612762  1610612763        127.0        121.0       1   0.378072   \n",
       "9646  1610612750  1610612759        117.0        110.0       1   0.749355   \n",
       "9647  1610612751  1610612738        107.0        121.0       2   0.174672   \n",
       "\n",
       "      ...  TEAM1_75wp  TEAM1_100wp  TEAM2_10wp  TEAM2_25wp  TEAM2_50wp  \\\n",
       "1400  ...    0.586667         0.61         0.9        0.88        0.92   \n",
       "1428  ...    0.573333         0.62         0.7        0.72        0.66   \n",
       "1445  ...    0.560000         0.60         0.7        0.72        0.72   \n",
       "1482  ...    0.560000         0.59         0.5        0.52        0.56   \n",
       "1486  ...    0.440000         0.49         0.3        0.24        0.28   \n",
       "...   ...         ...          ...         ...         ...         ...   \n",
       "9643  ...    0.720000         0.67         0.2        0.16        0.16   \n",
       "9644  ...    0.493333         0.49         0.7        0.44        0.32   \n",
       "9645  ...    0.386667         0.43         0.2        0.40        0.46   \n",
       "9646  ...    0.520000         0.50         0.4        0.36        0.24   \n",
       "9647  ...    0.533333         0.51         0.7        0.56        0.62   \n",
       "\n",
       "      TEAM2_75wp  TEAM2_100wp  SCORE_DIFF  T1_WON  T2_WON  \n",
       "1400    0.880000         0.87        -4.0       0       1  \n",
       "1428    0.720000         0.69        10.0       1       0  \n",
       "1445    0.720000         0.73         3.0       1       0  \n",
       "1482    0.600000         0.61       -12.0       0       1  \n",
       "1486    0.320000         0.36         9.0       1       0  \n",
       "...          ...          ...         ...     ...     ...  \n",
       "9643    0.213333         0.22         8.0       1       0  \n",
       "9644    0.320000         0.29        -3.0       0       1  \n",
       "9645    0.560000         0.55         6.0       1       0  \n",
       "9646    0.253333         0.31         7.0       1       0  \n",
       "9647    0.653333         0.67       -14.0       0       1  \n",
       "\n",
       "[8108 rows x 25 columns]"
      ]
     },
     "metadata": {},
     "output_type": "display_data"
    },
    {
     "data": {
      "text/plain": [
       "Index(['Unnamed: 0', 'GAME_ID', 'SBR_GAME_ID', 'DATE', 'TEAM1_ID', 'TEAM2_ID',\n",
       "       'TEAM1_SCORE', 'TEAM2_SCORE', 'WINNER', 'away_prob', 'away_spread',\n",
       "       'away_total', 'TEAM1_10wp', 'TEAM1_25wp', 'TEAM1_50wp', 'TEAM1_75wp',\n",
       "       'TEAM1_100wp', 'TEAM2_10wp', 'TEAM2_25wp', 'TEAM2_50wp', 'TEAM2_75wp',\n",
       "       'TEAM2_100wp', 'SCORE_DIFF', 'T1_WON', 'T2_WON'],\n",
       "      dtype='object')"
      ]
     },
     "metadata": {},
     "output_type": "display_data"
    }
   ],
   "source": [
    "df = pd.read_csv(\"data_proc/games_wp_master.csv\")\n",
    "df[\"SCORE_DIFF\"] = df[\"TEAM1_SCORE\"] - df[\"TEAM2_SCORE\"]\n",
    "df[\"T1_WON\"] = -1* (df[\"WINNER\"] - 2)\n",
    "df[\"T2_WON\"] = -1 * (df[\"T1_WON\"] - 1)\n",
    "df.dropna(inplace=True)\n",
    "display(df)\n",
    "display(df.columns)"
   ]
  },
  {
   "cell_type": "code",
   "execution_count": 40,
   "metadata": {},
   "outputs": [
    {
     "data": {
      "application/vnd.plotly.v1+json": {
       "config": {
        "plotlyServerURL": "https://plot.ly"
       },
       "data": [
        {
         "marker": {
          "color": [
           [
            1
           ],
           [
            1
           ],
           [
            0
           ],
           [
            1
           ],
           [
            0
           ],
           [
            0
           ],
           [
            1
           ],
           [
            1
           ],
           [
            0
           ],
           [
            1
           ],
           [
            0
           ],
           [
            1
           ],
           [
            0
           ],
           [
            1
           ],
           [
            0
           ],
           [
            0
           ],
           [
            1
           ],
           [
            0
           ],
           [
            1
           ],
           [
            0
           ],
           [
            0
           ],
           [
            1
           ],
           [
            1
           ],
           [
            1
           ],
           [
            0
           ],
           [
            0
           ],
           [
            1
           ],
           [
            1
           ],
           [
            0
           ],
           [
            0
           ],
           [
            0
           ],
           [
            0
           ],
           [
            0
           ],
           [
            1
           ],
           [
            0
           ],
           [
            0
           ],
           [
            0
           ],
           [
            0
           ],
           [
            0
           ],
           [
            0
           ],
           [
            1
           ],
           [
            1
           ],
           [
            0
           ],
           [
            1
           ],
           [
            0
           ],
           [
            1
           ],
           [
            0
           ],
           [
            0
           ],
           [
            0
           ],
           [
            1
           ],
           [
            1
           ],
           [
            1
           ],
           [
            1
           ],
           [
            1
           ],
           [
            1
           ],
           [
            0
           ],
           [
            1
           ],
           [
            1
           ],
           [
            1
           ],
           [
            1
           ],
           [
            0
           ],
           [
            1
           ],
           [
            0
           ],
           [
            0
           ],
           [
            0
           ],
           [
            0
           ],
           [
            0
           ],
           [
            0
           ],
           [
            0
           ],
           [
            1
           ],
           [
            0
           ],
           [
            0
           ],
           [
            0
           ],
           [
            1
           ],
           [
            1
           ],
           [
            1
           ],
           [
            0
           ],
           [
            1
           ],
           [
            1
           ],
           [
            0
           ],
           [
            1
           ],
           [
            1
           ],
           [
            1
           ],
           [
            1
           ],
           [
            1
           ],
           [
            1
           ],
           [
            0
           ],
           [
            0
           ],
           [
            1
           ],
           [
            1
           ],
           [
            0
           ],
           [
            0
           ],
           [
            1
           ],
           [
            0
           ],
           [
            1
           ],
           [
            0
           ],
           [
            0
           ],
           [
            0
           ],
           [
            0
           ],
           [
            0
           ],
           [
            0
           ],
           [
            0
           ],
           [
            0
           ],
           [
            0
           ],
           [
            0
           ],
           [
            1
           ],
           [
            0
           ],
           [
            0
           ],
           [
            1
           ],
           [
            0
           ],
           [
            1
           ],
           [
            1
           ],
           [
            1
           ],
           [
            0
           ],
           [
            0
           ],
           [
            0
           ],
           [
            1
           ],
           [
            1
           ],
           [
            1
           ],
           [
            0
           ],
           [
            1
           ],
           [
            0
           ],
           [
            0
           ],
           [
            0
           ],
           [
            1
           ],
           [
            0
           ],
           [
            1
           ],
           [
            1
           ],
           [
            1
           ],
           [
            0
           ],
           [
            1
           ],
           [
            0
           ],
           [
            0
           ],
           [
            1
           ],
           [
            1
           ],
           [
            0
           ],
           [
            0
           ],
           [
            0
           ],
           [
            0
           ],
           [
            0
           ],
           [
            0
           ],
           [
            1
           ],
           [
            1
           ],
           [
            1
           ],
           [
            0
           ],
           [
            0
           ],
           [
            0
           ],
           [
            0
           ],
           [
            0
           ],
           [
            1
           ],
           [
            0
           ],
           [
            1
           ],
           [
            0
           ],
           [
            1
           ],
           [
            1
           ],
           [
            1
           ],
           [
            0
           ],
           [
            0
           ],
           [
            0
           ],
           [
            0
           ],
           [
            1
           ],
           [
            0
           ],
           [
            0
           ],
           [
            0
           ],
           [
            0
           ],
           [
            0
           ],
           [
            0
           ],
           [
            0
           ],
           [
            0
           ],
           [
            1
           ],
           [
            0
           ],
           [
            1
           ],
           [
            0
           ],
           [
            1
           ],
           [
            0
           ],
           [
            0
           ],
           [
            0
           ],
           [
            0
           ],
           [
            0
           ],
           [
            0
           ],
           [
            1
           ],
           [
            0
           ],
           [
            1
           ],
           [
            0
           ],
           [
            0
           ],
           [
            1
           ],
           [
            1
           ],
           [
            0
           ],
           [
            0
           ],
           [
            0
           ],
           [
            0
           ],
           [
            1
           ],
           [
            0
           ],
           [
            1
           ],
           [
            1
           ],
           [
            0
           ],
           [
            1
           ],
           [
            1
           ],
           [
            1
           ],
           [
            0
           ],
           [
            0
           ],
           [
            1
           ],
           [
            0
           ],
           [
            0
           ],
           [
            0
           ],
           [
            0
           ],
           [
            0
           ],
           [
            1
           ],
           [
            1
           ],
           [
            0
           ],
           [
            0
           ],
           [
            0
           ],
           [
            0
           ],
           [
            1
           ],
           [
            1
           ],
           [
            0
           ],
           [
            0
           ],
           [
            1
           ],
           [
            1
           ],
           [
            1
           ],
           [
            0
           ],
           [
            0
           ],
           [
            1
           ],
           [
            0
           ],
           [
            0
           ],
           [
            1
           ],
           [
            1
           ],
           [
            0
           ],
           [
            0
           ],
           [
            0
           ],
           [
            1
           ],
           [
            1
           ],
           [
            1
           ],
           [
            1
           ],
           [
            0
           ],
           [
            0
           ],
           [
            1
           ],
           [
            0
           ],
           [
            1
           ],
           [
            1
           ],
           [
            1
           ],
           [
            1
           ],
           [
            1
           ],
           [
            0
           ],
           [
            1
           ],
           [
            0
           ],
           [
            0
           ],
           [
            0
           ],
           [
            0
           ],
           [
            1
           ],
           [
            1
           ],
           [
            0
           ],
           [
            0
           ],
           [
            1
           ],
           [
            1
           ],
           [
            0
           ],
           [
            0
           ],
           [
            0
           ],
           [
            1
           ],
           [
            0
           ],
           [
            0
           ],
           [
            1
           ],
           [
            1
           ],
           [
            1
           ],
           [
            1
           ],
           [
            0
           ],
           [
            0
           ],
           [
            1
           ],
           [
            0
           ],
           [
            0
           ],
           [
            0
           ],
           [
            1
           ],
           [
            0
           ],
           [
            0
           ],
           [
            0
           ],
           [
            0
           ],
           [
            1
           ],
           [
            0
           ],
           [
            0
           ],
           [
            1
           ],
           [
            0
           ],
           [
            0
           ],
           [
            0
           ],
           [
            0
           ],
           [
            0
           ],
           [
            0
           ],
           [
            1
           ],
           [
            0
           ],
           [
            0
           ],
           [
            0
           ],
           [
            0
           ],
           [
            1
           ],
           [
            0
           ],
           [
            0
           ],
           [
            1
           ],
           [
            1
           ],
           [
            0
           ],
           [
            0
           ],
           [
            0
           ],
           [
            1
           ],
           [
            0
           ],
           [
            0
           ],
           [
            0
           ],
           [
            0
           ],
           [
            0
           ],
           [
            1
           ],
           [
            1
           ],
           [
            1
           ],
           [
            1
           ],
           [
            0
           ],
           [
            0
           ],
           [
            0
           ],
           [
            1
           ],
           [
            0
           ],
           [
            1
           ],
           [
            0
           ],
           [
            0
           ],
           [
            1
           ],
           [
            1
           ],
           [
            1
           ],
           [
            1
           ],
           [
            1
           ],
           [
            1
           ],
           [
            0
           ],
           [
            0
           ],
           [
            1
           ],
           [
            1
           ],
           [
            1
           ],
           [
            0
           ],
           [
            1
           ],
           [
            1
           ],
           [
            0
           ],
           [
            0
           ],
           [
            1
           ],
           [
            0
           ],
           [
            0
           ],
           [
            0
           ],
           [
            1
           ],
           [
            0
           ],
           [
            0
           ],
           [
            1
           ],
           [
            0
           ],
           [
            0
           ],
           [
            0
           ],
           [
            1
           ],
           [
            1
           ],
           [
            1
           ],
           [
            0
           ],
           [
            0
           ],
           [
            0
           ],
           [
            0
           ],
           [
            1
           ],
           [
            0
           ],
           [
            1
           ],
           [
            1
           ],
           [
            0
           ],
           [
            0
           ],
           [
            1
           ],
           [
            0
           ],
           [
            1
           ],
           [
            0
           ],
           [
            0
           ],
           [
            0
           ],
           [
            0
           ],
           [
            1
           ],
           [
            1
           ],
           [
            0
           ],
           [
            1
           ],
           [
            0
           ],
           [
            0
           ],
           [
            0
           ],
           [
            1
           ],
           [
            1
           ],
           [
            0
           ],
           [
            0
           ],
           [
            0
           ],
           [
            0
           ],
           [
            1
           ],
           [
            1
           ],
           [
            1
           ],
           [
            1
           ],
           [
            0
           ],
           [
            1
           ],
           [
            0
           ],
           [
            1
           ],
           [
            1
           ],
           [
            1
           ],
           [
            0
           ],
           [
            0
           ],
           [
            0
           ],
           [
            0
           ],
           [
            0
           ],
           [
            0
           ],
           [
            1
           ],
           [
            1
           ],
           [
            1
           ],
           [
            0
           ],
           [
            0
           ],
           [
            0
           ],
           [
            1
           ],
           [
            0
           ],
           [
            1
           ],
           [
            0
           ],
           [
            0
           ],
           [
            1
           ],
           [
            0
           ],
           [
            1
           ],
           [
            0
           ],
           [
            0
           ],
           [
            0
           ],
           [
            0
           ],
           [
            0
           ],
           [
            0
           ],
           [
            1
           ],
           [
            1
           ],
           [
            0
           ],
           [
            0
           ],
           [
            1
           ],
           [
            1
           ],
           [
            0
           ],
           [
            1
           ],
           [
            0
           ],
           [
            0
           ],
           [
            1
           ],
           [
            1
           ],
           [
            0
           ],
           [
            0
           ],
           [
            1
           ],
           [
            1
           ],
           [
            0
           ],
           [
            0
           ],
           [
            0
           ],
           [
            0
           ],
           [
            0
           ],
           [
            1
           ],
           [
            0
           ],
           [
            0
           ],
           [
            0
           ],
           [
            1
           ],
           [
            1
           ],
           [
            1
           ],
           [
            0
           ],
           [
            1
           ],
           [
            1
           ],
           [
            1
           ],
           [
            1
           ],
           [
            0
           ],
           [
            1
           ],
           [
            1
           ],
           [
            0
           ],
           [
            0
           ],
           [
            0
           ],
           [
            0
           ],
           [
            0
           ],
           [
            0
           ],
           [
            1
           ],
           [
            1
           ],
           [
            0
           ],
           [
            1
           ],
           [
            1
           ],
           [
            0
           ],
           [
            1
           ],
           [
            0
           ],
           [
            0
           ],
           [
            0
           ],
           [
            1
           ],
           [
            0
           ],
           [
            0
           ],
           [
            0
           ],
           [
            1
           ],
           [
            0
           ],
           [
            1
           ],
           [
            0
           ],
           [
            0
           ],
           [
            0
           ],
           [
            1
           ],
           [
            0
           ],
           [
            0
           ],
           [
            0
           ],
           [
            1
           ],
           [
            0
           ],
           [
            0
           ],
           [
            0
           ],
           [
            0
           ],
           [
            0
           ],
           [
            1
           ],
           [
            1
           ],
           [
            0
           ],
           [
            0
           ],
           [
            0
           ],
           [
            0
           ],
           [
            0
           ],
           [
            1
           ],
           [
            1
           ],
           [
            0
           ],
           [
            0
           ],
           [
            1
           ],
           [
            1
           ],
           [
            1
           ],
           [
            1
           ],
           [
            1
           ],
           [
            1
           ],
           [
            0
           ],
           [
            0
           ],
           [
            1
           ],
           [
            0
           ],
           [
            0
           ],
           [
            0
           ],
           [
            1
           ],
           [
            1
           ],
           [
            1
           ],
           [
            1
           ],
           [
            0
           ],
           [
            1
           ],
           [
            0
           ],
           [
            1
           ],
           [
            0
           ],
           [
            1
           ],
           [
            1
           ],
           [
            1
           ],
           [
            1
           ],
           [
            1
           ],
           [
            1
           ],
           [
            1
           ],
           [
            1
           ],
           [
            0
           ],
           [
            0
           ],
           [
            0
           ],
           [
            1
           ],
           [
            0
           ],
           [
            0
           ],
           [
            1
           ],
           [
            1
           ],
           [
            0
           ],
           [
            0
           ],
           [
            1
           ],
           [
            1
           ],
           [
            1
           ],
           [
            0
           ],
           [
            0
           ],
           [
            1
           ],
           [
            0
           ],
           [
            0
           ],
           [
            0
           ],
           [
            0
           ],
           [
            0
           ],
           [
            0
           ],
           [
            0
           ],
           [
            0
           ],
           [
            0
           ],
           [
            0
           ],
           [
            1
           ],
           [
            1
           ],
           [
            0
           ],
           [
            0
           ],
           [
            0
           ],
           [
            0
           ],
           [
            1
           ],
           [
            1
           ],
           [
            0
           ],
           [
            1
           ],
           [
            1
           ],
           [
            0
           ],
           [
            0
           ],
           [
            1
           ],
           [
            1
           ],
           [
            1
           ],
           [
            0
           ],
           [
            0
           ],
           [
            1
           ],
           [
            0
           ],
           [
            1
           ],
           [
            0
           ],
           [
            0
           ],
           [
            0
           ],
           [
            1
           ],
           [
            1
           ],
           [
            0
           ],
           [
            0
           ],
           [
            1
           ],
           [
            0
           ],
           [
            1
           ],
           [
            1
           ],
           [
            0
           ],
           [
            0
           ],
           [
            0
           ],
           [
            0
           ],
           [
            0
           ],
           [
            1
           ],
           [
            1
           ],
           [
            0
           ],
           [
            1
           ],
           [
            0
           ],
           [
            1
           ],
           [
            1
           ],
           [
            1
           ],
           [
            1
           ],
           [
            0
           ],
           [
            0
           ],
           [
            0
           ],
           [
            0
           ],
           [
            1
           ],
           [
            1
           ],
           [
            1
           ],
           [
            0
           ],
           [
            0
           ],
           [
            0
           ],
           [
            1
           ],
           [
            1
           ],
           [
            1
           ],
           [
            1
           ],
           [
            0
           ],
           [
            0
           ],
           [
            1
           ],
           [
            0
           ],
           [
            0
           ],
           [
            1
           ],
           [
            1
           ],
           [
            1
           ],
           [
            1
           ],
           [
            0
           ],
           [
            1
           ],
           [
            1
           ],
           [
            0
           ],
           [
            0
           ],
           [
            0
           ],
           [
            1
           ],
           [
            0
           ],
           [
            0
           ],
           [
            1
           ],
           [
            0
           ],
           [
            0
           ],
           [
            0
           ],
           [
            0
           ],
           [
            0
           ],
           [
            0
           ],
           [
            1
           ],
           [
            0
           ],
           [
            1
           ],
           [
            0
           ],
           [
            0
           ],
           [
            1
           ],
           [
            1
           ],
           [
            1
           ],
           [
            0
           ],
           [
            1
           ],
           [
            0
           ],
           [
            1
           ],
           [
            1
           ],
           [
            0
           ],
           [
            0
           ],
           [
            1
           ],
           [
            0
           ],
           [
            1
           ],
           [
            0
           ],
           [
            1
           ],
           [
            0
           ],
           [
            0
           ],
           [
            0
           ],
           [
            1
           ],
           [
            1
           ],
           [
            1
           ],
           [
            1
           ],
           [
            0
           ],
           [
            0
           ],
           [
            1
           ],
           [
            1
           ],
           [
            0
           ],
           [
            0
           ],
           [
            1
           ],
           [
            0
           ],
           [
            1
           ],
           [
            0
           ],
           [
            1
           ],
           [
            1
           ],
           [
            1
           ],
           [
            0
           ],
           [
            1
           ],
           [
            1
           ],
           [
            0
           ],
           [
            1
           ],
           [
            1
           ],
           [
            1
           ],
           [
            1
           ],
           [
            0
           ],
           [
            1
           ],
           [
            0
           ],
           [
            0
           ],
           [
            0
           ],
           [
            0
           ],
           [
            1
           ],
           [
            0
           ],
           [
            1
           ],
           [
            1
           ],
           [
            1
           ],
           [
            1
           ],
           [
            1
           ],
           [
            0
           ],
           [
            1
           ],
           [
            0
           ],
           [
            1
           ],
           [
            1
           ],
           [
            1
           ],
           [
            1
           ],
           [
            0
           ],
           [
            0
           ],
           [
            1
           ],
           [
            0
           ],
           [
            1
           ],
           [
            1
           ],
           [
            1
           ],
           [
            0
           ],
           [
            0
           ],
           [
            1
           ],
           [
            1
           ],
           [
            0
           ],
           [
            0
           ],
           [
            0
           ],
           [
            0
           ],
           [
            1
           ],
           [
            0
           ],
           [
            1
           ],
           [
            0
           ],
           [
            0
           ],
           [
            1
           ],
           [
            0
           ],
           [
            1
           ],
           [
            1
           ],
           [
            0
           ],
           [
            0
           ],
           [
            1
           ],
           [
            0
           ],
           [
            1
           ],
           [
            1
           ],
           [
            1
           ],
           [
            0
           ],
           [
            0
           ],
           [
            1
           ],
           [
            1
           ],
           [
            0
           ],
           [
            0
           ],
           [
            1
           ],
           [
            0
           ],
           [
            1
           ],
           [
            1
           ],
           [
            0
           ],
           [
            1
           ],
           [
            1
           ],
           [
            0
           ],
           [
            0
           ],
           [
            0
           ],
           [
            1
           ],
           [
            0
           ],
           [
            0
           ],
           [
            0
           ],
           [
            0
           ],
           [
            1
           ],
           [
            0
           ],
           [
            1
           ],
           [
            0
           ],
           [
            1
           ],
           [
            0
           ],
           [
            1
           ],
           [
            0
           ],
           [
            1
           ],
           [
            0
           ],
           [
            0
           ],
           [
            0
           ],
           [
            0
           ],
           [
            1
           ],
           [
            0
           ],
           [
            0
           ],
           [
            1
           ],
           [
            0
           ],
           [
            1
           ],
           [
            0
           ],
           [
            0
           ],
           [
            1
           ],
           [
            0
           ],
           [
            0
           ],
           [
            0
           ],
           [
            0
           ],
           [
            1
           ],
           [
            1
           ],
           [
            0
           ],
           [
            1
           ],
           [
            0
           ],
           [
            0
           ],
           [
            0
           ],
           [
            0
           ],
           [
            0
           ],
           [
            0
           ],
           [
            0
           ],
           [
            1
           ],
           [
            1
           ],
           [
            0
           ],
           [
            0
           ],
           [
            1
           ],
           [
            1
           ],
           [
            0
           ],
           [
            1
           ],
           [
            0
           ],
           [
            0
           ],
           [
            0
           ],
           [
            0
           ],
           [
            0
           ],
           [
            1
           ],
           [
            0
           ],
           [
            0
           ],
           [
            0
           ],
           [
            0
           ]
          ],
          "colorscale": [
           [
            0,
            "#440154"
           ],
           [
            0.1111111111111111,
            "#482878"
           ],
           [
            0.2222222222222222,
            "#3e4989"
           ],
           [
            0.3333333333333333,
            "#31688e"
           ],
           [
            0.4444444444444444,
            "#26828e"
           ],
           [
            0.5555555555555556,
            "#1f9e89"
           ],
           [
            0.6666666666666666,
            "#35b779"
           ],
           [
            0.7777777777777778,
            "#6ece58"
           ],
           [
            0.8888888888888888,
            "#b5de2b"
           ],
           [
            1,
            "#fde725"
           ]
          ],
          "size": 10
         },
         "mode": "markers",
         "name": "Actual",
         "type": "scatter",
         "x": [
          1610612742,
          1610612759,
          1610612760,
          1610612738,
          1610612760,
          1610612760,
          1610612743,
          1610612748,
          1610612760,
          1610612758,
          1610612738,
          1610612745,
          1610612751,
          1610612764,
          1610612740,
          1610612763,
          1610612746,
          1610612758,
          1610612740,
          1610612746,
          1610612766,
          1610612757,
          1610612737,
          1610612744,
          1610612764,
          1610612749,
          1610612743,
          1610612760,
          1610612740,
          1610612752,
          1610612737,
          1610612764,
          1610612745,
          1610612748,
          1610612759,
          1610612749,
          1610612750,
          1610612741,
          1610612746,
          1610612761,
          1610612738,
          1610612738,
          1610612755,
          1610612759,
          1610612759,
          1610612743,
          1610612741,
          1610612747,
          1610612742,
          1610612764,
          1610612738,
          1610612756,
          1610612746,
          1610612755,
          1610612743,
          1610612757,
          1610612746,
          1610612740,
          1610612751,
          1610612758,
          1610612743,
          1610612761,
          1610612765,
          1610612748,
          1610612750,
          1610612746,
          1610612744,
          1610612753,
          1610612766,
          1610612744,
          1610612752,
          1610612748,
          1610612752,
          1610612762,
          1610612738,
          1610612739,
          1610612743,
          1610612753,
          1610612742,
          1610612764,
          1610612766,
          1610612749,
          1610612750,
          1610612760,
          1610612761,
          1610612747,
          1610612758,
          1610612763,
          1610612765,
          1610612738,
          1610612744,
          1610612764,
          1610612741,
          1610612739,
          1610612754,
          1610612744,
          1610612766,
          1610612749,
          1610612740,
          1610612752,
          1610612766,
          1610612751,
          1610612744,
          1610612764,
          1610612737,
          1610612753,
          1610612761,
          1610612748,
          1610612743,
          1610612750,
          1610612740,
          1610612750,
          1610612764,
          1610612744,
          1610612741,
          1610612753,
          1610612756,
          1610612765,
          1610612756,
          1610612763,
          1610612749,
          1610612744,
          1610612753,
          1610612743,
          1610612744,
          1610612739,
          1610612749,
          1610612758,
          1610612757,
          1610612756,
          1610612756,
          1610612738,
          1610612754,
          1610612759,
          1610612754,
          1610612737,
          1610612742,
          1610612738,
          1610612743,
          1610612739,
          1610612761,
          1610612761,
          1610612738,
          1610612743,
          1610612762,
          1610612745,
          1610612765,
          1610612766,
          1610612758,
          1610612750,
          1610612759,
          1610612763,
          1610612757,
          1610612751,
          1610612756,
          1610612750,
          1610612740,
          1610612738,
          1610612744,
          1610612749,
          1610612748,
          1610612745,
          1610612751,
          1610612764,
          1610612745,
          1610612737,
          1610612743,
          1610612744,
          1610612737,
          1610612760,
          1610612765,
          1610612757,
          1610612762,
          1610612753,
          1610612753,
          1610612765,
          1610612759,
          1610612764,
          1610612746,
          1610612739,
          1610612743,
          1610612763,
          1610612739,
          1610612750,
          1610612749,
          1610612761,
          1610612753,
          1610612752,
          1610612761,
          1610612741,
          1610612766,
          1610612738,
          1610612753,
          1610612749,
          1610612744,
          1610612766,
          1610612750,
          1610612745,
          1610612740,
          1610612764,
          1610612765,
          1610612740,
          1610612764,
          1610612756,
          1610612762,
          1610612756,
          1610612746,
          1610612738,
          1610612747,
          1610612755,
          1610612749,
          1610612763,
          1610612761,
          1610612744,
          1610612740,
          1610612763,
          1610612763,
          1610612755,
          1610612763,
          1610612765,
          1610612753,
          1610612755,
          1610612745,
          1610612740,
          1610612757,
          1610612757,
          1610612761,
          1610612755,
          1610612752,
          1610612740,
          1610612744,
          1610612744,
          1610612744,
          1610612755,
          1610612764,
          1610612764,
          1610612746,
          1610612763,
          1610612762,
          1610612757,
          1610612755,
          1610612764,
          1610612746,
          1610612754,
          1610612746,
          1610612759,
          1610612761,
          1610612738,
          1610612751,
          1610612751,
          1610612763,
          1610612758,
          1610612739,
          1610612756,
          1610612754,
          1610612761,
          1610612745,
          1610612744,
          1610612749,
          1610612740,
          1610612741,
          1610612757,
          1610612740,
          1610612751,
          1610612761,
          1610612739,
          1610612757,
          1610612743,
          1610612744,
          1610612761,
          1610612759,
          1610612762,
          1610612751,
          1610612750,
          1610612751,
          1610612747,
          1610612758,
          1610612743,
          1610612757,
          1610612748,
          1610612742,
          1610612739,
          1610612760,
          1610612738,
          1610612760,
          1610612750,
          1610612753,
          1610612752,
          1610612742,
          1610612761,
          1610612738,
          1610612764,
          1610612753,
          1610612758,
          1610612743,
          1610612754,
          1610612759,
          1610612759,
          1610612748,
          1610612748,
          1610612759,
          1610612761,
          1610612765,
          1610612765,
          1610612764,
          1610612749,
          1610612760,
          1610612745,
          1610612760,
          1610612758,
          1610612766,
          1610612745,
          1610612754,
          1610612750,
          1610612757,
          1610612755,
          1610612750,
          1610612747,
          1610612755,
          1610612747,
          1610612750,
          1610612744,
          1610612758,
          1610612737,
          1610612746,
          1610612755,
          1610612747,
          1610612741,
          1610612742,
          1610612742,
          1610612750,
          1610612747,
          1610612753,
          1610612737,
          1610612751,
          1610612754,
          1610612762,
          1610612747,
          1610612755,
          1610612752,
          1610612738,
          1610612764,
          1610612755,
          1610612764,
          1610612744,
          1610612759,
          1610612739,
          1610612761,
          1610612755,
          1610612747,
          1610612766,
          1610612761,
          1610612746,
          1610612756,
          1610612760,
          1610612748,
          1610612753,
          1610612739,
          1610612745,
          1610612765,
          1610612758,
          1610612757,
          1610612754,
          1610612746,
          1610612756,
          1610612761,
          1610612760,
          1610612754,
          1610612764,
          1610612753,
          1610612743,
          1610612766,
          1610612749,
          1610612755,
          1610612748,
          1610612739,
          1610612755,
          1610612759,
          1610612746,
          1610612756,
          1610612742,
          1610612766,
          1610612762,
          1610612743,
          1610612746,
          1610612737,
          1610612762,
          1610612747,
          1610612753,
          1610612748,
          1610612751,
          1610612747,
          1610612742,
          1610612741,
          1610612757,
          1610612738,
          1610612743,
          1610612737,
          1610612765,
          1610612761,
          1610612746,
          1610612739,
          1610612741,
          1610612754,
          1610612742,
          1610612765,
          1610612742,
          1610612765,
          1610612738,
          1610612757,
          1610612766,
          1610612755,
          1610612748,
          1610612756,
          1610612762,
          1610612754,
          1610612763,
          1610612742,
          1610612758,
          1610612766,
          1610612740,
          1610612761,
          1610612743,
          1610612747,
          1610612748,
          1610612745,
          1610612766,
          1610612762,
          1610612764,
          1610612762,
          1610612759,
          1610612764,
          1610612741,
          1610612748,
          1610612754,
          1610612754,
          1610612758,
          1610612764,
          1610612761,
          1610612764,
          1610612766,
          1610612753,
          1610612762,
          1610612755,
          1610612751,
          1610612743,
          1610612747,
          1610612754,
          1610612742,
          1610612751,
          1610612750,
          1610612750,
          1610612763,
          1610612759,
          1610612746,
          1610612762,
          1610612762,
          1610612738,
          1610612740,
          1610612766,
          1610612758,
          1610612761,
          1610612763,
          1610612750,
          1610612741,
          1610612745,
          1610612766,
          1610612749,
          1610612746,
          1610612763,
          1610612754,
          1610612755,
          1610612748,
          1610612757,
          1610612745,
          1610612764,
          1610612765,
          1610612743,
          1610612739,
          1610612738,
          1610612761,
          1610612756,
          1610612748,
          1610612741,
          1610612752,
          1610612750,
          1610612750,
          1610612741,
          1610612752,
          1610612757,
          1610612739,
          1610612753,
          1610612764,
          1610612746,
          1610612739,
          1610612740,
          1610612743,
          1610612754,
          1610612755,
          1610612739,
          1610612755,
          1610612755,
          1610612758,
          1610612753,
          1610612739,
          1610612763,
          1610612744,
          1610612744,
          1610612759,
          1610612745,
          1610612742,
          1610612753,
          1610612763,
          1610612756,
          1610612747,
          1610612762,
          1610612764,
          1610612744,
          1610612745,
          1610612765,
          1610612739,
          1610612754,
          1610612764,
          1610612744,
          1610612755,
          1610612764,
          1610612760,
          1610612758,
          1610612761,
          1610612754,
          1610612740,
          1610612758,
          1610612754,
          1610612757,
          1610612759,
          1610612759,
          1610612762,
          1610612751,
          1610612754,
          1610612762,
          1610612758,
          1610612753,
          1610612740,
          1610612760,
          1610612757,
          1610612761,
          1610612755,
          1610612737,
          1610612755,
          1610612749,
          1610612760,
          1610612757,
          1610612743,
          1610612744,
          1610612758,
          1610612742,
          1610612742,
          1610612756,
          1610612764,
          1610612740,
          1610612756,
          1610612740,
          1610612750,
          1610612759,
          1610612760,
          1610612751,
          1610612738,
          1610612753,
          1610612766,
          1610612758,
          1610612765,
          1610612743,
          1610612746,
          1610612764,
          1610612759,
          1610612764,
          1610612739,
          1610612748,
          1610612740,
          1610612738,
          1610612765,
          1610612757,
          1610612751,
          1610612754,
          1610612766,
          1610612751,
          1610612760,
          1610612753,
          1610612738,
          1610612751,
          1610612764,
          1610612763,
          1610612758,
          1610612763,
          1610612758,
          1610612763,
          1610612744,
          1610612755,
          1610612749,
          1610612746,
          1610612747,
          1610612744,
          1610612753,
          1610612759,
          1610612749,
          1610612757,
          1610612741,
          1610612753,
          1610612754,
          1610612762,
          1610612755,
          1610612763,
          1610612738,
          1610612742,
          1610612746,
          1610612746,
          1610612751,
          1610612739,
          1610612743,
          1610612754,
          1610612743,
          1610612751,
          1610612761,
          1610612747,
          1610612749,
          1610612749,
          1610612756,
          1610612749,
          1610612745,
          1610612755,
          1610612754,
          1610612741,
          1610612757,
          1610612751,
          1610612765,
          1610612752,
          1610612739,
          1610612741,
          1610612742,
          1610612761,
          1610612753,
          1610612737,
          1610612749,
          1610612751,
          1610612763,
          1610612737,
          1610612752,
          1610612745,
          1610612761,
          1610612739,
          1610612744,
          1610612743,
          1610612760,
          1610612754,
          1610612740,
          1610612737,
          1610612764,
          1610612750,
          1610612753,
          1610612761,
          1610612745,
          1610612752,
          1610612758,
          1610612739,
          1610612747,
          1610612746,
          1610612744,
          1610612763,
          1610612752,
          1610612753,
          1610612755,
          1610612760,
          1610612741,
          1610612742,
          1610612759,
          1610612761,
          1610612750,
          1610612761,
          1610612746,
          1610612749,
          1610612763,
          1610612743,
          1610612748,
          1610612749,
          1610612755,
          1610612749,
          1610612757,
          1610612737,
          1610612751,
          1610612755,
          1610612737,
          1610612760,
          1610612754,
          1610612745,
          1610612757,
          1610612754,
          1610612750,
          1610612738,
          1610612743,
          1610612744,
          1610612760,
          1610612742,
          1610612742,
          1610612756,
          1610612754,
          1610612737,
          1610612763,
          1610612744,
          1610612750,
          1610612759,
          1610612760,
          1610612759,
          1610612746,
          1610612743,
          1610612764,
          1610612760,
          1610612759,
          1610612766,
          1610612740,
          1610612740,
          1610612760,
          1610612754,
          1610612748,
          1610612760,
          1610612746,
          1610612759,
          1610612746,
          1610612746,
          1610612745,
          1610612764,
          1610612757,
          1610612742,
          1610612739,
          1610612743,
          1610612737,
          1610612757,
          1610612749,
          1610612756,
          1610612739,
          1610612744,
          1610612759,
          1610612738,
          1610612758,
          1610612743,
          1610612762,
          1610612761,
          1610612739,
          1610612742,
          1610612753,
          1610612749,
          1610612737,
          1610612766,
          1610612760,
          1610612759,
          1610612756,
          1610612753,
          1610612744,
          1610612764,
          1610612741,
          1610612752,
          1610612758,
          1610612745,
          1610612754,
          1610612761,
          1610612752,
          1610612745,
          1610612761,
          1610612741,
          1610612764,
          1610612738,
          1610612759,
          1610612742,
          1610612749,
          1610612753,
          1610612756,
          1610612739,
          1610612738,
          1610612754,
          1610612765,
          1610612756,
          1610612739,
          1610612755,
          1610612763,
          1610612762,
          1610612760,
          1610612752,
          1610612757,
          1610612753,
          1610612745,
          1610612739,
          1610612755,
          1610612743,
          1610612761,
          1610612746,
          1610612759,
          1610612745,
          1610612762,
          1610612756,
          1610612749,
          1610612765,
          1610612748,
          1610612748,
          1610612760,
          1610612763,
          1610612766,
          1610612750,
          1610612760,
          1610612755,
          1610612742,
          1610612748,
          1610612740
         ],
         "y": [
          1610612759,
          1610612740,
          1610612758,
          1610612758,
          1610612749,
          1610612743,
          1610612762,
          1610612764,
          1610612759,
          1610612763,
          1610612761,
          1610612762,
          1610612739,
          1610612750,
          1610612743,
          1610612750,
          1610612741,
          1610612759,
          1610612765,
          1610612743,
          1610612744,
          1610612746,
          1610612753,
          1610612743,
          1610612754,
          1610612764,
          1610612757,
          1610612752,
          1610612762,
          1610612738,
          1610612764,
          1610612738,
          1610612758,
          1610612745,
          1610612743,
          1610612761,
          1610612744,
          1610612746,
          1610612758,
          1610612754,
          1610612737,
          1610612737,
          1610612761,
          1610612749,
          1610612757,
          1610612765,
          1610612744,
          1610612765,
          1610612748,
          1610612751,
          1610612751,
          1610612758,
          1610612742,
          1610612761,
          1610612754,
          1610612740,
          1610612747,
          1610612758,
          1610612747,
          1610612765,
          1610612761,
          1610612749,
          1610612737,
          1610612746,
          1610612755,
          1610612757,
          1610612763,
          1610612754,
          1610612743,
          1610612740,
          1610612746,
          1610612755,
          1610612738,
          1610612750,
          1610612750,
          1610612746,
          1610612763,
          1610612765,
          1610612750,
          1610612748,
          1610612744,
          1610612748,
          1610612758,
          1610612748,
          1610612739,
          1610612766,
          1610612747,
          1610612762,
          1610612738,
          1610612762,
          1610612765,
          1610612753,
          1610612751,
          1610612743,
          1610612758,
          1610612763,
          1610612764,
          1610612763,
          1610612755,
          1610612759,
          1610612751,
          1610612756,
          1610612737,
          1610612765,
          1610612760,
          1610612751,
          1610612738,
          1610612761,
          1610612750,
          1610612763,
          1610612761,
          1610612742,
          1610612750,
          1610612740,
          1610612744,
          1610612756,
          1610612750,
          1610612756,
          1610612752,
          1610612742,
          1610612753,
          1610612753,
          1610612755,
          1610612745,
          1610612738,
          1610612738,
          1610612765,
          1610612763,
          1610612748,
          1610612765,
          1610612740,
          1610612741,
          1610612752,
          1610612743,
          1610612744,
          1610612750,
          1610612762,
          1610612754,
          1610612752,
          1610612761,
          1610612739,
          1610612758,
          1610612760,
          1610612740,
          1610612758,
          1610612747,
          1610612748,
          1610612755,
          1610612746,
          1610612741,
          1610612739,
          1610612746,
          1610612743,
          1610612754,
          1610612760,
          1610612745,
          1610612743,
          1610612741,
          1610612756,
          1610612746,
          1610612753,
          1610612739,
          1610612753,
          1610612737,
          1610612744,
          1610612756,
          1610612755,
          1610612747,
          1610612744,
          1610612758,
          1610612751,
          1610612763,
          1610612759,
          1610612764,
          1610612765,
          1610612763,
          1610612747,
          1610612742,
          1610612762,
          1610612743,
          1610612756,
          1610612744,
          1610612766,
          1610612749,
          1610612764,
          1610612766,
          1610612740,
          1610612755,
          1610612739,
          1610612759,
          1610612761,
          1610612739,
          1610612740,
          1610612747,
          1610612757,
          1610612745,
          1610612765,
          1610612764,
          1610612746,
          1610612739,
          1610612740,
          1610612745,
          1610612749,
          1610612745,
          1610612756,
          1610612740,
          1610612760,
          1610612752,
          1610612741,
          1610612738,
          1610612748,
          1610612738,
          1610612759,
          1610612740,
          1610612737,
          1610612765,
          1610612750,
          1610612757,
          1610612757,
          1610612750,
          1610612756,
          1610612765,
          1610612744,
          1610612751,
          1610612745,
          1610612746,
          1610612745,
          1610612759,
          1610612765,
          1610612760,
          1610612745,
          1610612762,
          1610612757,
          1610612764,
          1610612756,
          1610612757,
          1610612756,
          1610612747,
          1610612740,
          1610612741,
          1610612739,
          1610612754,
          1610612747,
          1610612761,
          1610612743,
          1610612763,
          1610612741,
          1610612746,
          1610612746,
          1610612741,
          1610612745,
          1610612761,
          1610612741,
          1610612746,
          1610612755,
          1610612750,
          1610612759,
          1610612753,
          1610612752,
          1610612762,
          1610612748,
          1610612750,
          1610612757,
          1610612752,
          1610612747,
          1610612752,
          1610612750,
          1610612761,
          1610612746,
          1610612754,
          1610612763,
          1610612764,
          1610612754,
          1610612744,
          1610612739,
          1610612761,
          1610612757,
          1610612745,
          1610612752,
          1610612754,
          1610612761,
          1610612746,
          1610612746,
          1610612766,
          1610612754,
          1610612744,
          1610612765,
          1610612755,
          1610612744,
          1610612739,
          1610612747,
          1610612765,
          1610612761,
          1610612746,
          1610612759,
          1610612744,
          1610612745,
          1610612757,
          1610612738,
          1610612738,
          1610612764,
          1610612757,
          1610612752,
          1610612762,
          1610612765,
          1610612753,
          1610612753,
          1610612741,
          1610612744,
          1610612764,
          1610612755,
          1610612744,
          1610612751,
          1610612766,
          1610612762,
          1610612757,
          1610612744,
          1610612750,
          1610612746,
          1610612760,
          1610612743,
          1610612754,
          1610612756,
          1610612764,
          1610612765,
          1610612750,
          1610612744,
          1610612758,
          1610612740,
          1610612763,
          1610612737,
          1610612743,
          1610612737,
          1610612758,
          1610612757,
          1610612737,
          1610612744,
          1610612740,
          1610612765,
          1610612746,
          1610612759,
          1610612756,
          1610612766,
          1610612746,
          1610612759,
          1610612755,
          1610612752,
          1610612755,
          1610612748,
          1610612763,
          1610612749,
          1610612749,
          1610612738,
          1610612747,
          1610612749,
          1610612751,
          1610612744,
          1610612737,
          1610612748,
          1610612760,
          1610612756,
          1610612743,
          1610612737,
          1610612749,
          1610612745,
          1610612752,
          1610612739,
          1610612761,
          1610612749,
          1610612749,
          1610612757,
          1610612750,
          1610612741,
          1610612737,
          1610612738,
          1610612765,
          1610612766,
          1610612753,
          1610612765,
          1610612744,
          1610612765,
          1610612765,
          1610612750,
          1610612759,
          1610612763,
          1610612765,
          1610612746,
          1610612750,
          1610612749,
          1610612750,
          1610612745,
          1610612760,
          1610612746,
          1610612753,
          1610612759,
          1610612751,
          1610612738,
          1610612760,
          1610612739,
          1610612747,
          1610612750,
          1610612757,
          1610612760,
          1610612738,
          1610612760,
          1610612739,
          1610612766,
          1610612762,
          1610612756,
          1610612749,
          1610612751,
          1610612761,
          1610612751,
          1610612766,
          1610612742,
          1610612748,
          1610612742,
          1610612759,
          1610612739,
          1610612764,
          1610612746,
          1610612739,
          1610612760,
          1610612753,
          1610612741,
          1610612741,
          1610612747,
          1610612766,
          1610612765,
          1610612740,
          1610612745,
          1610612761,
          1610612745,
          1610612761,
          1610612763,
          1610612748,
          1610612751,
          1610612739,
          1610612749,
          1610612755,
          1610612761,
          1610612752,
          1610612737,
          1610612741,
          1610612758,
          1610612756,
          1610612744,
          1610612764,
          1610612756,
          1610612741,
          1610612749,
          1610612757,
          1610612744,
          1610612762,
          1610612740,
          1610612747,
          1610612747,
          1610612743,
          1610612743,
          1610612756,
          1610612753,
          1610612749,
          1610612757,
          1610612748,
          1610612740,
          1610612742,
          1610612753,
          1610612743,
          1610612760,
          1610612762,
          1610612738,
          1610612754,
          1610612758,
          1610612746,
          1610612746,
          1610612752,
          1610612756,
          1610612747,
          1610612754,
          1610612744,
          1610612748,
          1610612745,
          1610612749,
          1610612739,
          1610612737,
          1610612760,
          1610612754,
          1610612748,
          1610612762,
          1610612737,
          1610612744,
          1610612745,
          1610612758,
          1610612739,
          1610612741,
          1610612747,
          1610612762,
          1610612744,
          1610612748,
          1610612756,
          1610612753,
          1610612759,
          1610612738,
          1610612765,
          1610612761,
          1610612743,
          1610612743,
          1610612745,
          1610612744,
          1610612759,
          1610612751,
          1610612738,
          1610612756,
          1610612762,
          1610612758,
          1610612743,
          1610612739,
          1610612757,
          1610612753,
          1610612745,
          1610612756,
          1610612764,
          1610612751,
          1610612747,
          1610612753,
          1610612760,
          1610612743,
          1610612742,
          1610612764,
          1610612753,
          1610612755,
          1610612753,
          1610612755,
          1610612737,
          1610612742,
          1610612740,
          1610612749,
          1610612765,
          1610612761,
          1610612757,
          1610612759,
          1610612748,
          1610612763,
          1610612762,
          1610612737,
          1610612741,
          1610612760,
          1610612748,
          1610612738,
          1610612739,
          1610612758,
          1610612761,
          1610612742,
          1610612750,
          1610612747,
          1610612746,
          1610612762,
          1610612743,
          1610612739,
          1610612741,
          1610612740,
          1610612760,
          1610612762,
          1610612741,
          1610612763,
          1610612748,
          1610612750,
          1610612756,
          1610612761,
          1610612745,
          1610612741,
          1610612766,
          1610612740,
          1610612742,
          1610612751,
          1610612753,
          1610612759,
          1610612747,
          1610612746,
          1610612757,
          1610612764,
          1610612762,
          1610612743,
          1610612755,
          1610612754,
          1610612748,
          1610612747,
          1610612754,
          1610612761,
          1610612740,
          1610612740,
          1610612743,
          1610612750,
          1610612766,
          1610612750,
          1610612748,
          1610612738,
          1610612754,
          1610612751,
          1610612750,
          1610612746,
          1610612762,
          1610612738,
          1610612763,
          1610612737,
          1610612747,
          1610612761,
          1610612754,
          1610612763,
          1610612742,
          1610612762,
          1610612739,
          1610612750,
          1610612756,
          1610612744,
          1610612756,
          1610612740,
          1610612764,
          1610612760,
          1610612752,
          1610612742,
          1610612754,
          1610612766,
          1610612764,
          1610612763,
          1610612756,
          1610612740,
          1610612764,
          1610612764,
          1610612757,
          1610612755,
          1610612744,
          1610612739,
          1610612749,
          1610612737,
          1610612753,
          1610612747,
          1610612738,
          1610612749,
          1610612738,
          1610612750,
          1610612755,
          1610612747,
          1610612754,
          1610612759,
          1610612739,
          1610612747,
          1610612740,
          1610612748,
          1610612756,
          1610612751,
          1610612739,
          1610612756,
          1610612752,
          1610612762,
          1610612764,
          1610612754,
          1610612761,
          1610612763,
          1610612763,
          1610612747,
          1610612737,
          1610612746,
          1610612737,
          1610612756,
          1610612745,
          1610612758,
          1610612759,
          1610612749,
          1610612747,
          1610612754,
          1610612761,
          1610612751,
          1610612765,
          1610612738,
          1610612747,
          1610612743,
          1610612765,
          1610612763,
          1610612754,
          1610612757,
          1610612749,
          1610612753,
          1610612752,
          1610612761,
          1610612744,
          1610612739,
          1610612738,
          1610612752,
          1610612743,
          1610612761,
          1610612751,
          1610612759,
          1610612758,
          1610612741,
          1610612749,
          1610612739,
          1610612751,
          1610612755,
          1610612746,
          1610612746,
          1610612738,
          1610612762,
          1610612757,
          1610612737,
          1610612741,
          1610612749,
          1610612743,
          1610612764,
          1610612744,
          1610612740,
          1610612743,
          1610612760,
          1610612744,
          1610612740,
          1610612757,
          1610612760,
          1610612764,
          1610612762,
          1610612739,
          1610612747,
          1610612749,
          1610612753,
          1610612759,
          1610612762,
          1610612758,
          1610612747,
          1610612747,
          1610612749,
          1610612747,
          1610612738,
          1610612753,
          1610612747,
          1610612764,
          1610612762,
          1610612756,
          1610612737,
          1610612760,
          1610612760,
          1610612762,
          1610612749,
          1610612752,
          1610612748,
          1610612764,
          1610612765,
          1610612738,
          1610612741,
          1610612757,
          1610612766,
          1610612766,
          1610612747,
          1610612763,
          1610612756,
          1610612756,
          1610612747,
          1610612747,
          1610612757,
          1610612761,
          1610612765,
          1610612757,
          1610612747,
          1610612759,
          1610612742,
          1610612748,
          1610612749,
          1610612759,
          1610612764,
          1610612738,
          1610612759,
          1610612755,
          1610612740,
          1610612756,
          1610612753,
          1610612737,
          1610612748,
          1610612754,
          1610612755,
          1610612752,
          1610612754,
          1610612764,
          1610612740,
          1610612751,
          1610612752,
          1610612763,
          1610612756,
          1610612762,
          1610612761,
          1610612761,
          1610612763,
          1610612744,
          1610612758,
          1610612759,
          1610612752,
          1610612742,
          1610612738,
          1610612757,
          1610612743,
          1610612752,
          1610612748,
          1610612759,
          1610612737,
          1610612760,
          1610612744,
          1610612747,
          1610612739,
          1610612763,
          1610612761,
          1610612764,
          1610612740,
          1610612744,
          1610612744
         ]
        },
        {
         "marker": {
          "color": [
           0,
           0,
           0,
           0,
           0,
           0,
           0,
           0,
           0,
           0,
           0,
           0,
           0,
           0,
           0,
           0,
           0,
           0,
           0,
           0,
           0,
           0,
           0,
           0,
           0,
           0,
           0,
           0,
           0,
           0,
           0,
           0,
           0,
           0,
           0,
           0,
           0,
           0,
           0,
           0,
           0,
           0,
           0,
           0,
           0,
           0,
           0,
           0,
           0,
           0,
           0,
           0,
           0,
           0,
           0,
           0,
           0,
           0,
           0,
           0,
           0,
           0,
           0,
           0,
           0,
           0,
           0,
           0,
           0,
           0,
           0,
           0,
           0,
           0,
           0,
           0,
           0,
           0,
           0,
           0,
           0,
           0,
           0,
           0,
           0,
           0,
           0,
           0,
           0,
           0,
           0,
           0,
           0,
           0,
           0,
           0,
           0,
           0,
           0,
           0,
           0,
           0,
           0,
           0,
           0,
           0,
           0,
           0,
           0,
           0,
           0,
           0,
           0,
           0,
           0,
           0,
           0,
           0,
           0,
           0,
           0,
           0,
           0,
           0,
           0,
           0,
           0,
           0,
           0,
           0,
           0,
           0,
           0,
           0,
           0,
           0,
           0,
           0,
           0,
           0,
           0,
           0,
           0,
           0,
           0,
           0,
           0,
           0,
           0,
           0,
           0,
           0,
           0,
           0,
           0,
           0,
           0,
           0,
           0,
           0,
           0,
           0,
           0,
           0,
           0,
           0,
           0,
           0,
           0,
           0,
           0,
           0,
           0,
           0,
           0,
           0,
           0,
           0,
           0,
           0,
           0,
           0,
           0,
           0,
           0,
           0,
           0,
           0,
           0,
           0,
           0,
           0,
           0,
           0,
           0,
           0,
           0,
           0,
           0,
           0,
           0,
           0,
           0,
           0,
           0,
           0,
           0,
           0,
           0,
           0,
           0,
           0,
           0,
           0,
           0,
           0,
           0,
           0,
           0,
           0,
           0,
           0,
           0,
           0,
           0,
           0,
           0,
           0,
           0,
           0,
           0,
           0,
           0,
           0,
           0,
           0,
           0,
           0,
           0,
           0,
           0,
           0,
           0,
           0,
           0,
           0,
           0,
           0,
           0,
           0,
           0,
           0,
           0,
           0,
           0,
           0,
           0,
           0,
           0,
           0,
           0,
           0,
           0,
           0,
           0,
           0,
           0,
           0,
           0,
           0,
           0,
           0,
           0,
           0,
           0,
           0,
           0,
           0,
           0,
           0,
           0,
           0,
           0,
           0,
           0,
           0,
           0,
           0,
           0,
           0,
           0,
           0,
           0,
           0,
           0,
           0,
           0,
           0,
           0,
           0,
           0,
           0,
           0,
           0,
           0,
           0,
           0,
           0,
           0,
           0,
           0,
           0,
           0,
           0,
           0,
           0,
           0,
           0,
           0,
           0,
           0,
           0,
           0,
           0,
           0,
           0,
           0,
           0,
           0,
           0,
           0,
           0,
           0,
           0,
           0,
           0,
           0,
           0,
           0,
           0,
           0,
           0,
           0,
           0,
           0,
           0,
           0,
           0,
           0,
           0,
           0,
           0,
           0,
           0,
           0,
           0,
           0,
           0,
           0,
           0,
           0,
           0,
           0,
           0,
           0,
           0,
           0,
           0,
           0,
           0,
           0,
           0,
           0,
           0,
           0,
           0,
           0,
           0,
           0,
           0,
           0,
           0,
           0,
           0,
           0,
           0,
           0,
           0,
           0,
           0,
           0,
           0,
           0,
           0,
           0,
           0,
           0,
           0,
           0,
           0,
           0,
           0,
           0,
           0,
           0,
           0,
           0,
           0,
           0,
           0,
           0,
           0,
           0,
           0,
           0,
           0,
           0,
           0,
           0,
           0,
           0,
           0,
           0,
           0,
           0,
           0,
           0,
           0,
           0,
           0,
           0,
           0,
           0,
           0,
           0,
           0,
           0,
           0,
           0,
           0,
           0,
           0,
           0,
           0,
           0,
           0,
           0,
           0,
           0,
           0,
           0,
           0,
           0,
           0,
           0,
           0,
           0,
           0,
           0,
           0,
           0,
           0,
           0,
           0,
           0,
           0,
           0,
           0,
           0,
           0,
           0,
           0,
           0,
           0,
           0,
           0,
           0,
           0,
           0,
           0,
           0,
           0,
           0,
           0,
           0,
           0,
           0,
           0,
           0,
           0,
           0,
           0,
           0,
           0,
           0,
           0,
           0,
           0,
           0,
           0,
           0,
           0,
           0,
           0,
           0,
           0,
           0,
           0,
           0,
           0,
           0,
           0,
           0,
           0,
           0,
           0,
           0,
           0,
           0,
           0,
           0,
           0,
           0,
           0,
           0,
           0,
           0,
           0,
           0,
           0,
           0,
           0,
           0,
           0,
           0,
           0,
           0,
           0,
           0,
           0,
           0,
           0,
           0,
           0,
           0,
           0,
           0,
           0,
           0,
           0,
           0,
           0,
           0,
           0,
           0,
           0,
           0,
           0,
           0,
           0,
           0,
           0,
           0,
           0,
           0,
           0,
           0,
           0,
           0,
           0,
           0,
           0,
           0,
           0,
           0,
           0,
           0,
           0,
           0,
           0,
           0,
           0,
           0,
           0,
           0,
           0,
           0,
           0,
           0,
           0,
           0,
           0,
           0,
           0,
           0,
           0,
           0,
           0,
           0,
           0,
           0,
           0,
           0,
           0,
           0,
           0,
           0,
           0,
           0,
           0,
           0,
           0,
           0,
           0,
           0,
           0,
           0,
           0,
           0,
           0,
           0,
           0,
           0,
           0,
           0,
           0,
           0,
           0,
           0,
           0,
           0,
           0,
           0,
           0,
           0,
           0,
           0,
           0,
           0,
           0,
           0,
           0,
           0,
           0,
           0,
           0,
           0,
           0,
           0,
           0,
           0,
           0,
           0,
           0,
           0,
           0,
           0,
           0,
           0,
           0,
           0,
           0,
           0,
           0,
           0,
           0,
           0,
           0,
           0,
           0,
           0,
           0,
           0,
           0,
           0,
           0,
           0,
           0,
           0,
           0,
           0,
           0,
           0,
           0,
           0,
           0,
           0,
           0,
           0,
           0,
           0,
           0,
           0,
           0,
           0,
           0,
           0,
           0,
           0,
           0,
           0,
           0,
           0,
           0,
           0,
           0,
           0,
           0,
           0,
           0,
           0,
           0,
           0,
           0,
           0,
           0,
           0,
           0,
           0,
           0,
           0,
           0,
           0,
           0,
           0,
           0,
           0,
           0,
           0,
           0,
           0,
           0,
           0,
           0,
           0,
           0,
           0,
           0,
           0,
           0,
           0,
           0,
           0,
           0,
           0,
           0,
           0,
           0,
           0,
           0,
           0,
           0,
           0,
           0,
           0,
           0,
           0,
           0,
           0,
           0,
           0,
           0,
           0,
           0,
           0,
           0,
           0,
           0,
           0,
           0,
           0,
           0,
           0,
           0,
           0,
           0,
           0,
           0,
           0,
           0,
           0,
           0,
           0,
           0,
           0,
           0,
           0,
           0,
           0,
           0,
           0,
           0,
           0,
           0,
           0,
           0,
           0,
           0,
           0,
           0,
           0,
           0,
           0,
           0,
           0,
           0,
           0,
           0,
           0,
           0,
           0
          ],
          "colorscale": [
           [
            0,
            "#440154"
           ],
           [
            0.1111111111111111,
            "#482878"
           ],
           [
            0.2222222222222222,
            "#3e4989"
           ],
           [
            0.3333333333333333,
            "#31688e"
           ],
           [
            0.4444444444444444,
            "#26828e"
           ],
           [
            0.5555555555555556,
            "#1f9e89"
           ],
           [
            0.6666666666666666,
            "#35b779"
           ],
           [
            0.7777777777777778,
            "#6ece58"
           ],
           [
            0.8888888888888888,
            "#b5de2b"
           ],
           [
            1,
            "#fde725"
           ]
          ],
          "opacity": 0.5,
          "size": 5
         },
         "mode": "markers",
         "name": "Predicted",
         "type": "scatter",
         "x": [
          1610612742,
          1610612759,
          1610612760,
          1610612738,
          1610612760,
          1610612760,
          1610612743,
          1610612748,
          1610612760,
          1610612758,
          1610612738,
          1610612745,
          1610612751,
          1610612764,
          1610612740,
          1610612763,
          1610612746,
          1610612758,
          1610612740,
          1610612746,
          1610612766,
          1610612757,
          1610612737,
          1610612744,
          1610612764,
          1610612749,
          1610612743,
          1610612760,
          1610612740,
          1610612752,
          1610612737,
          1610612764,
          1610612745,
          1610612748,
          1610612759,
          1610612749,
          1610612750,
          1610612741,
          1610612746,
          1610612761,
          1610612738,
          1610612738,
          1610612755,
          1610612759,
          1610612759,
          1610612743,
          1610612741,
          1610612747,
          1610612742,
          1610612764,
          1610612738,
          1610612756,
          1610612746,
          1610612755,
          1610612743,
          1610612757,
          1610612746,
          1610612740,
          1610612751,
          1610612758,
          1610612743,
          1610612761,
          1610612765,
          1610612748,
          1610612750,
          1610612746,
          1610612744,
          1610612753,
          1610612766,
          1610612744,
          1610612752,
          1610612748,
          1610612752,
          1610612762,
          1610612738,
          1610612739,
          1610612743,
          1610612753,
          1610612742,
          1610612764,
          1610612766,
          1610612749,
          1610612750,
          1610612760,
          1610612761,
          1610612747,
          1610612758,
          1610612763,
          1610612765,
          1610612738,
          1610612744,
          1610612764,
          1610612741,
          1610612739,
          1610612754,
          1610612744,
          1610612766,
          1610612749,
          1610612740,
          1610612752,
          1610612766,
          1610612751,
          1610612744,
          1610612764,
          1610612737,
          1610612753,
          1610612761,
          1610612748,
          1610612743,
          1610612750,
          1610612740,
          1610612750,
          1610612764,
          1610612744,
          1610612741,
          1610612753,
          1610612756,
          1610612765,
          1610612756,
          1610612763,
          1610612749,
          1610612744,
          1610612753,
          1610612743,
          1610612744,
          1610612739,
          1610612749,
          1610612758,
          1610612757,
          1610612756,
          1610612756,
          1610612738,
          1610612754,
          1610612759,
          1610612754,
          1610612737,
          1610612742,
          1610612738,
          1610612743,
          1610612739,
          1610612761,
          1610612761,
          1610612738,
          1610612743,
          1610612762,
          1610612745,
          1610612765,
          1610612766,
          1610612758,
          1610612750,
          1610612759,
          1610612763,
          1610612757,
          1610612751,
          1610612756,
          1610612750,
          1610612740,
          1610612738,
          1610612744,
          1610612749,
          1610612748,
          1610612745,
          1610612751,
          1610612764,
          1610612745,
          1610612737,
          1610612743,
          1610612744,
          1610612737,
          1610612760,
          1610612765,
          1610612757,
          1610612762,
          1610612753,
          1610612753,
          1610612765,
          1610612759,
          1610612764,
          1610612746,
          1610612739,
          1610612743,
          1610612763,
          1610612739,
          1610612750,
          1610612749,
          1610612761,
          1610612753,
          1610612752,
          1610612761,
          1610612741,
          1610612766,
          1610612738,
          1610612753,
          1610612749,
          1610612744,
          1610612766,
          1610612750,
          1610612745,
          1610612740,
          1610612764,
          1610612765,
          1610612740,
          1610612764,
          1610612756,
          1610612762,
          1610612756,
          1610612746,
          1610612738,
          1610612747,
          1610612755,
          1610612749,
          1610612763,
          1610612761,
          1610612744,
          1610612740,
          1610612763,
          1610612763,
          1610612755,
          1610612763,
          1610612765,
          1610612753,
          1610612755,
          1610612745,
          1610612740,
          1610612757,
          1610612757,
          1610612761,
          1610612755,
          1610612752,
          1610612740,
          1610612744,
          1610612744,
          1610612744,
          1610612755,
          1610612764,
          1610612764,
          1610612746,
          1610612763,
          1610612762,
          1610612757,
          1610612755,
          1610612764,
          1610612746,
          1610612754,
          1610612746,
          1610612759,
          1610612761,
          1610612738,
          1610612751,
          1610612751,
          1610612763,
          1610612758,
          1610612739,
          1610612756,
          1610612754,
          1610612761,
          1610612745,
          1610612744,
          1610612749,
          1610612740,
          1610612741,
          1610612757,
          1610612740,
          1610612751,
          1610612761,
          1610612739,
          1610612757,
          1610612743,
          1610612744,
          1610612761,
          1610612759,
          1610612762,
          1610612751,
          1610612750,
          1610612751,
          1610612747,
          1610612758,
          1610612743,
          1610612757,
          1610612748,
          1610612742,
          1610612739,
          1610612760,
          1610612738,
          1610612760,
          1610612750,
          1610612753,
          1610612752,
          1610612742,
          1610612761,
          1610612738,
          1610612764,
          1610612753,
          1610612758,
          1610612743,
          1610612754,
          1610612759,
          1610612759,
          1610612748,
          1610612748,
          1610612759,
          1610612761,
          1610612765,
          1610612765,
          1610612764,
          1610612749,
          1610612760,
          1610612745,
          1610612760,
          1610612758,
          1610612766,
          1610612745,
          1610612754,
          1610612750,
          1610612757,
          1610612755,
          1610612750,
          1610612747,
          1610612755,
          1610612747,
          1610612750,
          1610612744,
          1610612758,
          1610612737,
          1610612746,
          1610612755,
          1610612747,
          1610612741,
          1610612742,
          1610612742,
          1610612750,
          1610612747,
          1610612753,
          1610612737,
          1610612751,
          1610612754,
          1610612762,
          1610612747,
          1610612755,
          1610612752,
          1610612738,
          1610612764,
          1610612755,
          1610612764,
          1610612744,
          1610612759,
          1610612739,
          1610612761,
          1610612755,
          1610612747,
          1610612766,
          1610612761,
          1610612746,
          1610612756,
          1610612760,
          1610612748,
          1610612753,
          1610612739,
          1610612745,
          1610612765,
          1610612758,
          1610612757,
          1610612754,
          1610612746,
          1610612756,
          1610612761,
          1610612760,
          1610612754,
          1610612764,
          1610612753,
          1610612743,
          1610612766,
          1610612749,
          1610612755,
          1610612748,
          1610612739,
          1610612755,
          1610612759,
          1610612746,
          1610612756,
          1610612742,
          1610612766,
          1610612762,
          1610612743,
          1610612746,
          1610612737,
          1610612762,
          1610612747,
          1610612753,
          1610612748,
          1610612751,
          1610612747,
          1610612742,
          1610612741,
          1610612757,
          1610612738,
          1610612743,
          1610612737,
          1610612765,
          1610612761,
          1610612746,
          1610612739,
          1610612741,
          1610612754,
          1610612742,
          1610612765,
          1610612742,
          1610612765,
          1610612738,
          1610612757,
          1610612766,
          1610612755,
          1610612748,
          1610612756,
          1610612762,
          1610612754,
          1610612763,
          1610612742,
          1610612758,
          1610612766,
          1610612740,
          1610612761,
          1610612743,
          1610612747,
          1610612748,
          1610612745,
          1610612766,
          1610612762,
          1610612764,
          1610612762,
          1610612759,
          1610612764,
          1610612741,
          1610612748,
          1610612754,
          1610612754,
          1610612758,
          1610612764,
          1610612761,
          1610612764,
          1610612766,
          1610612753,
          1610612762,
          1610612755,
          1610612751,
          1610612743,
          1610612747,
          1610612754,
          1610612742,
          1610612751,
          1610612750,
          1610612750,
          1610612763,
          1610612759,
          1610612746,
          1610612762,
          1610612762,
          1610612738,
          1610612740,
          1610612766,
          1610612758,
          1610612761,
          1610612763,
          1610612750,
          1610612741,
          1610612745,
          1610612766,
          1610612749,
          1610612746,
          1610612763,
          1610612754,
          1610612755,
          1610612748,
          1610612757,
          1610612745,
          1610612764,
          1610612765,
          1610612743,
          1610612739,
          1610612738,
          1610612761,
          1610612756,
          1610612748,
          1610612741,
          1610612752,
          1610612750,
          1610612750,
          1610612741,
          1610612752,
          1610612757,
          1610612739,
          1610612753,
          1610612764,
          1610612746,
          1610612739,
          1610612740,
          1610612743,
          1610612754,
          1610612755,
          1610612739,
          1610612755,
          1610612755,
          1610612758,
          1610612753,
          1610612739,
          1610612763,
          1610612744,
          1610612744,
          1610612759,
          1610612745,
          1610612742,
          1610612753,
          1610612763,
          1610612756,
          1610612747,
          1610612762,
          1610612764,
          1610612744,
          1610612745,
          1610612765,
          1610612739,
          1610612754,
          1610612764,
          1610612744,
          1610612755,
          1610612764,
          1610612760,
          1610612758,
          1610612761,
          1610612754,
          1610612740,
          1610612758,
          1610612754,
          1610612757,
          1610612759,
          1610612759,
          1610612762,
          1610612751,
          1610612754,
          1610612762,
          1610612758,
          1610612753,
          1610612740,
          1610612760,
          1610612757,
          1610612761,
          1610612755,
          1610612737,
          1610612755,
          1610612749,
          1610612760,
          1610612757,
          1610612743,
          1610612744,
          1610612758,
          1610612742,
          1610612742,
          1610612756,
          1610612764,
          1610612740,
          1610612756,
          1610612740,
          1610612750,
          1610612759,
          1610612760,
          1610612751,
          1610612738,
          1610612753,
          1610612766,
          1610612758,
          1610612765,
          1610612743,
          1610612746,
          1610612764,
          1610612759,
          1610612764,
          1610612739,
          1610612748,
          1610612740,
          1610612738,
          1610612765,
          1610612757,
          1610612751,
          1610612754,
          1610612766,
          1610612751,
          1610612760,
          1610612753,
          1610612738,
          1610612751,
          1610612764,
          1610612763,
          1610612758,
          1610612763,
          1610612758,
          1610612763,
          1610612744,
          1610612755,
          1610612749,
          1610612746,
          1610612747,
          1610612744,
          1610612753,
          1610612759,
          1610612749,
          1610612757,
          1610612741,
          1610612753,
          1610612754,
          1610612762,
          1610612755,
          1610612763,
          1610612738,
          1610612742,
          1610612746,
          1610612746,
          1610612751,
          1610612739,
          1610612743,
          1610612754,
          1610612743,
          1610612751,
          1610612761,
          1610612747,
          1610612749,
          1610612749,
          1610612756,
          1610612749,
          1610612745,
          1610612755,
          1610612754,
          1610612741,
          1610612757,
          1610612751,
          1610612765,
          1610612752,
          1610612739,
          1610612741,
          1610612742,
          1610612761,
          1610612753,
          1610612737,
          1610612749,
          1610612751,
          1610612763,
          1610612737,
          1610612752,
          1610612745,
          1610612761,
          1610612739,
          1610612744,
          1610612743,
          1610612760,
          1610612754,
          1610612740,
          1610612737,
          1610612764,
          1610612750,
          1610612753,
          1610612761,
          1610612745,
          1610612752,
          1610612758,
          1610612739,
          1610612747,
          1610612746,
          1610612744,
          1610612763,
          1610612752,
          1610612753,
          1610612755,
          1610612760,
          1610612741,
          1610612742,
          1610612759,
          1610612761,
          1610612750,
          1610612761,
          1610612746,
          1610612749,
          1610612763,
          1610612743,
          1610612748,
          1610612749,
          1610612755,
          1610612749,
          1610612757,
          1610612737,
          1610612751,
          1610612755,
          1610612737,
          1610612760,
          1610612754,
          1610612745,
          1610612757,
          1610612754,
          1610612750,
          1610612738,
          1610612743,
          1610612744,
          1610612760,
          1610612742,
          1610612742,
          1610612756,
          1610612754,
          1610612737,
          1610612763,
          1610612744,
          1610612750,
          1610612759,
          1610612760,
          1610612759,
          1610612746,
          1610612743,
          1610612764,
          1610612760,
          1610612759,
          1610612766,
          1610612740,
          1610612740,
          1610612760,
          1610612754,
          1610612748,
          1610612760,
          1610612746,
          1610612759,
          1610612746,
          1610612746,
          1610612745,
          1610612764,
          1610612757,
          1610612742,
          1610612739,
          1610612743,
          1610612737,
          1610612757,
          1610612749,
          1610612756,
          1610612739,
          1610612744,
          1610612759,
          1610612738,
          1610612758,
          1610612743,
          1610612762,
          1610612761,
          1610612739,
          1610612742,
          1610612753,
          1610612749,
          1610612737,
          1610612766,
          1610612760,
          1610612759,
          1610612756,
          1610612753,
          1610612744,
          1610612764,
          1610612741,
          1610612752,
          1610612758,
          1610612745,
          1610612754,
          1610612761,
          1610612752,
          1610612745,
          1610612761,
          1610612741,
          1610612764,
          1610612738,
          1610612759,
          1610612742,
          1610612749,
          1610612753,
          1610612756,
          1610612739,
          1610612738,
          1610612754,
          1610612765,
          1610612756,
          1610612739,
          1610612755,
          1610612763,
          1610612762,
          1610612760,
          1610612752,
          1610612757,
          1610612753,
          1610612745,
          1610612739,
          1610612755,
          1610612743,
          1610612761,
          1610612746,
          1610612759,
          1610612745,
          1610612762,
          1610612756,
          1610612749,
          1610612765,
          1610612748,
          1610612748,
          1610612760,
          1610612763,
          1610612766,
          1610612750,
          1610612760,
          1610612755,
          1610612742,
          1610612748,
          1610612740
         ],
         "y": [
          1610612759,
          1610612740,
          1610612758,
          1610612758,
          1610612749,
          1610612743,
          1610612762,
          1610612764,
          1610612759,
          1610612763,
          1610612761,
          1610612762,
          1610612739,
          1610612750,
          1610612743,
          1610612750,
          1610612741,
          1610612759,
          1610612765,
          1610612743,
          1610612744,
          1610612746,
          1610612753,
          1610612743,
          1610612754,
          1610612764,
          1610612757,
          1610612752,
          1610612762,
          1610612738,
          1610612764,
          1610612738,
          1610612758,
          1610612745,
          1610612743,
          1610612761,
          1610612744,
          1610612746,
          1610612758,
          1610612754,
          1610612737,
          1610612737,
          1610612761,
          1610612749,
          1610612757,
          1610612765,
          1610612744,
          1610612765,
          1610612748,
          1610612751,
          1610612751,
          1610612758,
          1610612742,
          1610612761,
          1610612754,
          1610612740,
          1610612747,
          1610612758,
          1610612747,
          1610612765,
          1610612761,
          1610612749,
          1610612737,
          1610612746,
          1610612755,
          1610612757,
          1610612763,
          1610612754,
          1610612743,
          1610612740,
          1610612746,
          1610612755,
          1610612738,
          1610612750,
          1610612750,
          1610612746,
          1610612763,
          1610612765,
          1610612750,
          1610612748,
          1610612744,
          1610612748,
          1610612758,
          1610612748,
          1610612739,
          1610612766,
          1610612747,
          1610612762,
          1610612738,
          1610612762,
          1610612765,
          1610612753,
          1610612751,
          1610612743,
          1610612758,
          1610612763,
          1610612764,
          1610612763,
          1610612755,
          1610612759,
          1610612751,
          1610612756,
          1610612737,
          1610612765,
          1610612760,
          1610612751,
          1610612738,
          1610612761,
          1610612750,
          1610612763,
          1610612761,
          1610612742,
          1610612750,
          1610612740,
          1610612744,
          1610612756,
          1610612750,
          1610612756,
          1610612752,
          1610612742,
          1610612753,
          1610612753,
          1610612755,
          1610612745,
          1610612738,
          1610612738,
          1610612765,
          1610612763,
          1610612748,
          1610612765,
          1610612740,
          1610612741,
          1610612752,
          1610612743,
          1610612744,
          1610612750,
          1610612762,
          1610612754,
          1610612752,
          1610612761,
          1610612739,
          1610612758,
          1610612760,
          1610612740,
          1610612758,
          1610612747,
          1610612748,
          1610612755,
          1610612746,
          1610612741,
          1610612739,
          1610612746,
          1610612743,
          1610612754,
          1610612760,
          1610612745,
          1610612743,
          1610612741,
          1610612756,
          1610612746,
          1610612753,
          1610612739,
          1610612753,
          1610612737,
          1610612744,
          1610612756,
          1610612755,
          1610612747,
          1610612744,
          1610612758,
          1610612751,
          1610612763,
          1610612759,
          1610612764,
          1610612765,
          1610612763,
          1610612747,
          1610612742,
          1610612762,
          1610612743,
          1610612756,
          1610612744,
          1610612766,
          1610612749,
          1610612764,
          1610612766,
          1610612740,
          1610612755,
          1610612739,
          1610612759,
          1610612761,
          1610612739,
          1610612740,
          1610612747,
          1610612757,
          1610612745,
          1610612765,
          1610612764,
          1610612746,
          1610612739,
          1610612740,
          1610612745,
          1610612749,
          1610612745,
          1610612756,
          1610612740,
          1610612760,
          1610612752,
          1610612741,
          1610612738,
          1610612748,
          1610612738,
          1610612759,
          1610612740,
          1610612737,
          1610612765,
          1610612750,
          1610612757,
          1610612757,
          1610612750,
          1610612756,
          1610612765,
          1610612744,
          1610612751,
          1610612745,
          1610612746,
          1610612745,
          1610612759,
          1610612765,
          1610612760,
          1610612745,
          1610612762,
          1610612757,
          1610612764,
          1610612756,
          1610612757,
          1610612756,
          1610612747,
          1610612740,
          1610612741,
          1610612739,
          1610612754,
          1610612747,
          1610612761,
          1610612743,
          1610612763,
          1610612741,
          1610612746,
          1610612746,
          1610612741,
          1610612745,
          1610612761,
          1610612741,
          1610612746,
          1610612755,
          1610612750,
          1610612759,
          1610612753,
          1610612752,
          1610612762,
          1610612748,
          1610612750,
          1610612757,
          1610612752,
          1610612747,
          1610612752,
          1610612750,
          1610612761,
          1610612746,
          1610612754,
          1610612763,
          1610612764,
          1610612754,
          1610612744,
          1610612739,
          1610612761,
          1610612757,
          1610612745,
          1610612752,
          1610612754,
          1610612761,
          1610612746,
          1610612746,
          1610612766,
          1610612754,
          1610612744,
          1610612765,
          1610612755,
          1610612744,
          1610612739,
          1610612747,
          1610612765,
          1610612761,
          1610612746,
          1610612759,
          1610612744,
          1610612745,
          1610612757,
          1610612738,
          1610612738,
          1610612764,
          1610612757,
          1610612752,
          1610612762,
          1610612765,
          1610612753,
          1610612753,
          1610612741,
          1610612744,
          1610612764,
          1610612755,
          1610612744,
          1610612751,
          1610612766,
          1610612762,
          1610612757,
          1610612744,
          1610612750,
          1610612746,
          1610612760,
          1610612743,
          1610612754,
          1610612756,
          1610612764,
          1610612765,
          1610612750,
          1610612744,
          1610612758,
          1610612740,
          1610612763,
          1610612737,
          1610612743,
          1610612737,
          1610612758,
          1610612757,
          1610612737,
          1610612744,
          1610612740,
          1610612765,
          1610612746,
          1610612759,
          1610612756,
          1610612766,
          1610612746,
          1610612759,
          1610612755,
          1610612752,
          1610612755,
          1610612748,
          1610612763,
          1610612749,
          1610612749,
          1610612738,
          1610612747,
          1610612749,
          1610612751,
          1610612744,
          1610612737,
          1610612748,
          1610612760,
          1610612756,
          1610612743,
          1610612737,
          1610612749,
          1610612745,
          1610612752,
          1610612739,
          1610612761,
          1610612749,
          1610612749,
          1610612757,
          1610612750,
          1610612741,
          1610612737,
          1610612738,
          1610612765,
          1610612766,
          1610612753,
          1610612765,
          1610612744,
          1610612765,
          1610612765,
          1610612750,
          1610612759,
          1610612763,
          1610612765,
          1610612746,
          1610612750,
          1610612749,
          1610612750,
          1610612745,
          1610612760,
          1610612746,
          1610612753,
          1610612759,
          1610612751,
          1610612738,
          1610612760,
          1610612739,
          1610612747,
          1610612750,
          1610612757,
          1610612760,
          1610612738,
          1610612760,
          1610612739,
          1610612766,
          1610612762,
          1610612756,
          1610612749,
          1610612751,
          1610612761,
          1610612751,
          1610612766,
          1610612742,
          1610612748,
          1610612742,
          1610612759,
          1610612739,
          1610612764,
          1610612746,
          1610612739,
          1610612760,
          1610612753,
          1610612741,
          1610612741,
          1610612747,
          1610612766,
          1610612765,
          1610612740,
          1610612745,
          1610612761,
          1610612745,
          1610612761,
          1610612763,
          1610612748,
          1610612751,
          1610612739,
          1610612749,
          1610612755,
          1610612761,
          1610612752,
          1610612737,
          1610612741,
          1610612758,
          1610612756,
          1610612744,
          1610612764,
          1610612756,
          1610612741,
          1610612749,
          1610612757,
          1610612744,
          1610612762,
          1610612740,
          1610612747,
          1610612747,
          1610612743,
          1610612743,
          1610612756,
          1610612753,
          1610612749,
          1610612757,
          1610612748,
          1610612740,
          1610612742,
          1610612753,
          1610612743,
          1610612760,
          1610612762,
          1610612738,
          1610612754,
          1610612758,
          1610612746,
          1610612746,
          1610612752,
          1610612756,
          1610612747,
          1610612754,
          1610612744,
          1610612748,
          1610612745,
          1610612749,
          1610612739,
          1610612737,
          1610612760,
          1610612754,
          1610612748,
          1610612762,
          1610612737,
          1610612744,
          1610612745,
          1610612758,
          1610612739,
          1610612741,
          1610612747,
          1610612762,
          1610612744,
          1610612748,
          1610612756,
          1610612753,
          1610612759,
          1610612738,
          1610612765,
          1610612761,
          1610612743,
          1610612743,
          1610612745,
          1610612744,
          1610612759,
          1610612751,
          1610612738,
          1610612756,
          1610612762,
          1610612758,
          1610612743,
          1610612739,
          1610612757,
          1610612753,
          1610612745,
          1610612756,
          1610612764,
          1610612751,
          1610612747,
          1610612753,
          1610612760,
          1610612743,
          1610612742,
          1610612764,
          1610612753,
          1610612755,
          1610612753,
          1610612755,
          1610612737,
          1610612742,
          1610612740,
          1610612749,
          1610612765,
          1610612761,
          1610612757,
          1610612759,
          1610612748,
          1610612763,
          1610612762,
          1610612737,
          1610612741,
          1610612760,
          1610612748,
          1610612738,
          1610612739,
          1610612758,
          1610612761,
          1610612742,
          1610612750,
          1610612747,
          1610612746,
          1610612762,
          1610612743,
          1610612739,
          1610612741,
          1610612740,
          1610612760,
          1610612762,
          1610612741,
          1610612763,
          1610612748,
          1610612750,
          1610612756,
          1610612761,
          1610612745,
          1610612741,
          1610612766,
          1610612740,
          1610612742,
          1610612751,
          1610612753,
          1610612759,
          1610612747,
          1610612746,
          1610612757,
          1610612764,
          1610612762,
          1610612743,
          1610612755,
          1610612754,
          1610612748,
          1610612747,
          1610612754,
          1610612761,
          1610612740,
          1610612740,
          1610612743,
          1610612750,
          1610612766,
          1610612750,
          1610612748,
          1610612738,
          1610612754,
          1610612751,
          1610612750,
          1610612746,
          1610612762,
          1610612738,
          1610612763,
          1610612737,
          1610612747,
          1610612761,
          1610612754,
          1610612763,
          1610612742,
          1610612762,
          1610612739,
          1610612750,
          1610612756,
          1610612744,
          1610612756,
          1610612740,
          1610612764,
          1610612760,
          1610612752,
          1610612742,
          1610612754,
          1610612766,
          1610612764,
          1610612763,
          1610612756,
          1610612740,
          1610612764,
          1610612764,
          1610612757,
          1610612755,
          1610612744,
          1610612739,
          1610612749,
          1610612737,
          1610612753,
          1610612747,
          1610612738,
          1610612749,
          1610612738,
          1610612750,
          1610612755,
          1610612747,
          1610612754,
          1610612759,
          1610612739,
          1610612747,
          1610612740,
          1610612748,
          1610612756,
          1610612751,
          1610612739,
          1610612756,
          1610612752,
          1610612762,
          1610612764,
          1610612754,
          1610612761,
          1610612763,
          1610612763,
          1610612747,
          1610612737,
          1610612746,
          1610612737,
          1610612756,
          1610612745,
          1610612758,
          1610612759,
          1610612749,
          1610612747,
          1610612754,
          1610612761,
          1610612751,
          1610612765,
          1610612738,
          1610612747,
          1610612743,
          1610612765,
          1610612763,
          1610612754,
          1610612757,
          1610612749,
          1610612753,
          1610612752,
          1610612761,
          1610612744,
          1610612739,
          1610612738,
          1610612752,
          1610612743,
          1610612761,
          1610612751,
          1610612759,
          1610612758,
          1610612741,
          1610612749,
          1610612739,
          1610612751,
          1610612755,
          1610612746,
          1610612746,
          1610612738,
          1610612762,
          1610612757,
          1610612737,
          1610612741,
          1610612749,
          1610612743,
          1610612764,
          1610612744,
          1610612740,
          1610612743,
          1610612760,
          1610612744,
          1610612740,
          1610612757,
          1610612760,
          1610612764,
          1610612762,
          1610612739,
          1610612747,
          1610612749,
          1610612753,
          1610612759,
          1610612762,
          1610612758,
          1610612747,
          1610612747,
          1610612749,
          1610612747,
          1610612738,
          1610612753,
          1610612747,
          1610612764,
          1610612762,
          1610612756,
          1610612737,
          1610612760,
          1610612760,
          1610612762,
          1610612749,
          1610612752,
          1610612748,
          1610612764,
          1610612765,
          1610612738,
          1610612741,
          1610612757,
          1610612766,
          1610612766,
          1610612747,
          1610612763,
          1610612756,
          1610612756,
          1610612747,
          1610612747,
          1610612757,
          1610612761,
          1610612765,
          1610612757,
          1610612747,
          1610612759,
          1610612742,
          1610612748,
          1610612749,
          1610612759,
          1610612764,
          1610612738,
          1610612759,
          1610612755,
          1610612740,
          1610612756,
          1610612753,
          1610612737,
          1610612748,
          1610612754,
          1610612755,
          1610612752,
          1610612754,
          1610612764,
          1610612740,
          1610612751,
          1610612752,
          1610612763,
          1610612756,
          1610612762,
          1610612761,
          1610612761,
          1610612763,
          1610612744,
          1610612758,
          1610612759,
          1610612752,
          1610612742,
          1610612738,
          1610612757,
          1610612743,
          1610612752,
          1610612748,
          1610612759,
          1610612737,
          1610612760,
          1610612744,
          1610612747,
          1610612739,
          1610612763,
          1610612761,
          1610612764,
          1610612740,
          1610612744,
          1610612744
         ]
        }
       ],
       "layout": {
        "template": {
         "data": {
          "bar": [
           {
            "error_x": {
             "color": "#2a3f5f"
            },
            "error_y": {
             "color": "#2a3f5f"
            },
            "marker": {
             "line": {
              "color": "#E5ECF6",
              "width": 0.5
             },
             "pattern": {
              "fillmode": "overlay",
              "size": 10,
              "solidity": 0.2
             }
            },
            "type": "bar"
           }
          ],
          "barpolar": [
           {
            "marker": {
             "line": {
              "color": "#E5ECF6",
              "width": 0.5
             },
             "pattern": {
              "fillmode": "overlay",
              "size": 10,
              "solidity": 0.2
             }
            },
            "type": "barpolar"
           }
          ],
          "carpet": [
           {
            "aaxis": {
             "endlinecolor": "#2a3f5f",
             "gridcolor": "white",
             "linecolor": "white",
             "minorgridcolor": "white",
             "startlinecolor": "#2a3f5f"
            },
            "baxis": {
             "endlinecolor": "#2a3f5f",
             "gridcolor": "white",
             "linecolor": "white",
             "minorgridcolor": "white",
             "startlinecolor": "#2a3f5f"
            },
            "type": "carpet"
           }
          ],
          "choropleth": [
           {
            "colorbar": {
             "outlinewidth": 0,
             "ticks": ""
            },
            "type": "choropleth"
           }
          ],
          "contour": [
           {
            "colorbar": {
             "outlinewidth": 0,
             "ticks": ""
            },
            "colorscale": [
             [
              0,
              "#0d0887"
             ],
             [
              0.1111111111111111,
              "#46039f"
             ],
             [
              0.2222222222222222,
              "#7201a8"
             ],
             [
              0.3333333333333333,
              "#9c179e"
             ],
             [
              0.4444444444444444,
              "#bd3786"
             ],
             [
              0.5555555555555556,
              "#d8576b"
             ],
             [
              0.6666666666666666,
              "#ed7953"
             ],
             [
              0.7777777777777778,
              "#fb9f3a"
             ],
             [
              0.8888888888888888,
              "#fdca26"
             ],
             [
              1,
              "#f0f921"
             ]
            ],
            "type": "contour"
           }
          ],
          "contourcarpet": [
           {
            "colorbar": {
             "outlinewidth": 0,
             "ticks": ""
            },
            "type": "contourcarpet"
           }
          ],
          "heatmap": [
           {
            "colorbar": {
             "outlinewidth": 0,
             "ticks": ""
            },
            "colorscale": [
             [
              0,
              "#0d0887"
             ],
             [
              0.1111111111111111,
              "#46039f"
             ],
             [
              0.2222222222222222,
              "#7201a8"
             ],
             [
              0.3333333333333333,
              "#9c179e"
             ],
             [
              0.4444444444444444,
              "#bd3786"
             ],
             [
              0.5555555555555556,
              "#d8576b"
             ],
             [
              0.6666666666666666,
              "#ed7953"
             ],
             [
              0.7777777777777778,
              "#fb9f3a"
             ],
             [
              0.8888888888888888,
              "#fdca26"
             ],
             [
              1,
              "#f0f921"
             ]
            ],
            "type": "heatmap"
           }
          ],
          "heatmapgl": [
           {
            "colorbar": {
             "outlinewidth": 0,
             "ticks": ""
            },
            "colorscale": [
             [
              0,
              "#0d0887"
             ],
             [
              0.1111111111111111,
              "#46039f"
             ],
             [
              0.2222222222222222,
              "#7201a8"
             ],
             [
              0.3333333333333333,
              "#9c179e"
             ],
             [
              0.4444444444444444,
              "#bd3786"
             ],
             [
              0.5555555555555556,
              "#d8576b"
             ],
             [
              0.6666666666666666,
              "#ed7953"
             ],
             [
              0.7777777777777778,
              "#fb9f3a"
             ],
             [
              0.8888888888888888,
              "#fdca26"
             ],
             [
              1,
              "#f0f921"
             ]
            ],
            "type": "heatmapgl"
           }
          ],
          "histogram": [
           {
            "marker": {
             "pattern": {
              "fillmode": "overlay",
              "size": 10,
              "solidity": 0.2
             }
            },
            "type": "histogram"
           }
          ],
          "histogram2d": [
           {
            "colorbar": {
             "outlinewidth": 0,
             "ticks": ""
            },
            "colorscale": [
             [
              0,
              "#0d0887"
             ],
             [
              0.1111111111111111,
              "#46039f"
             ],
             [
              0.2222222222222222,
              "#7201a8"
             ],
             [
              0.3333333333333333,
              "#9c179e"
             ],
             [
              0.4444444444444444,
              "#bd3786"
             ],
             [
              0.5555555555555556,
              "#d8576b"
             ],
             [
              0.6666666666666666,
              "#ed7953"
             ],
             [
              0.7777777777777778,
              "#fb9f3a"
             ],
             [
              0.8888888888888888,
              "#fdca26"
             ],
             [
              1,
              "#f0f921"
             ]
            ],
            "type": "histogram2d"
           }
          ],
          "histogram2dcontour": [
           {
            "colorbar": {
             "outlinewidth": 0,
             "ticks": ""
            },
            "colorscale": [
             [
              0,
              "#0d0887"
             ],
             [
              0.1111111111111111,
              "#46039f"
             ],
             [
              0.2222222222222222,
              "#7201a8"
             ],
             [
              0.3333333333333333,
              "#9c179e"
             ],
             [
              0.4444444444444444,
              "#bd3786"
             ],
             [
              0.5555555555555556,
              "#d8576b"
             ],
             [
              0.6666666666666666,
              "#ed7953"
             ],
             [
              0.7777777777777778,
              "#fb9f3a"
             ],
             [
              0.8888888888888888,
              "#fdca26"
             ],
             [
              1,
              "#f0f921"
             ]
            ],
            "type": "histogram2dcontour"
           }
          ],
          "mesh3d": [
           {
            "colorbar": {
             "outlinewidth": 0,
             "ticks": ""
            },
            "type": "mesh3d"
           }
          ],
          "parcoords": [
           {
            "line": {
             "colorbar": {
              "outlinewidth": 0,
              "ticks": ""
             }
            },
            "type": "parcoords"
           }
          ],
          "pie": [
           {
            "automargin": true,
            "type": "pie"
           }
          ],
          "scatter": [
           {
            "fillpattern": {
             "fillmode": "overlay",
             "size": 10,
             "solidity": 0.2
            },
            "type": "scatter"
           }
          ],
          "scatter3d": [
           {
            "line": {
             "colorbar": {
              "outlinewidth": 0,
              "ticks": ""
             }
            },
            "marker": {
             "colorbar": {
              "outlinewidth": 0,
              "ticks": ""
             }
            },
            "type": "scatter3d"
           }
          ],
          "scattercarpet": [
           {
            "marker": {
             "colorbar": {
              "outlinewidth": 0,
              "ticks": ""
             }
            },
            "type": "scattercarpet"
           }
          ],
          "scattergeo": [
           {
            "marker": {
             "colorbar": {
              "outlinewidth": 0,
              "ticks": ""
             }
            },
            "type": "scattergeo"
           }
          ],
          "scattergl": [
           {
            "marker": {
             "colorbar": {
              "outlinewidth": 0,
              "ticks": ""
             }
            },
            "type": "scattergl"
           }
          ],
          "scattermapbox": [
           {
            "marker": {
             "colorbar": {
              "outlinewidth": 0,
              "ticks": ""
             }
            },
            "type": "scattermapbox"
           }
          ],
          "scatterpolar": [
           {
            "marker": {
             "colorbar": {
              "outlinewidth": 0,
              "ticks": ""
             }
            },
            "type": "scatterpolar"
           }
          ],
          "scatterpolargl": [
           {
            "marker": {
             "colorbar": {
              "outlinewidth": 0,
              "ticks": ""
             }
            },
            "type": "scatterpolargl"
           }
          ],
          "scatterternary": [
           {
            "marker": {
             "colorbar": {
              "outlinewidth": 0,
              "ticks": ""
             }
            },
            "type": "scatterternary"
           }
          ],
          "surface": [
           {
            "colorbar": {
             "outlinewidth": 0,
             "ticks": ""
            },
            "colorscale": [
             [
              0,
              "#0d0887"
             ],
             [
              0.1111111111111111,
              "#46039f"
             ],
             [
              0.2222222222222222,
              "#7201a8"
             ],
             [
              0.3333333333333333,
              "#9c179e"
             ],
             [
              0.4444444444444444,
              "#bd3786"
             ],
             [
              0.5555555555555556,
              "#d8576b"
             ],
             [
              0.6666666666666666,
              "#ed7953"
             ],
             [
              0.7777777777777778,
              "#fb9f3a"
             ],
             [
              0.8888888888888888,
              "#fdca26"
             ],
             [
              1,
              "#f0f921"
             ]
            ],
            "type": "surface"
           }
          ],
          "table": [
           {
            "cells": {
             "fill": {
              "color": "#EBF0F8"
             },
             "line": {
              "color": "white"
             }
            },
            "header": {
             "fill": {
              "color": "#C8D4E3"
             },
             "line": {
              "color": "white"
             }
            },
            "type": "table"
           }
          ]
         },
         "layout": {
          "annotationdefaults": {
           "arrowcolor": "#2a3f5f",
           "arrowhead": 0,
           "arrowwidth": 1
          },
          "autotypenumbers": "strict",
          "coloraxis": {
           "colorbar": {
            "outlinewidth": 0,
            "ticks": ""
           }
          },
          "colorscale": {
           "diverging": [
            [
             0,
             "#8e0152"
            ],
            [
             0.1,
             "#c51b7d"
            ],
            [
             0.2,
             "#de77ae"
            ],
            [
             0.3,
             "#f1b6da"
            ],
            [
             0.4,
             "#fde0ef"
            ],
            [
             0.5,
             "#f7f7f7"
            ],
            [
             0.6,
             "#e6f5d0"
            ],
            [
             0.7,
             "#b8e186"
            ],
            [
             0.8,
             "#7fbc41"
            ],
            [
             0.9,
             "#4d9221"
            ],
            [
             1,
             "#276419"
            ]
           ],
           "sequential": [
            [
             0,
             "#0d0887"
            ],
            [
             0.1111111111111111,
             "#46039f"
            ],
            [
             0.2222222222222222,
             "#7201a8"
            ],
            [
             0.3333333333333333,
             "#9c179e"
            ],
            [
             0.4444444444444444,
             "#bd3786"
            ],
            [
             0.5555555555555556,
             "#d8576b"
            ],
            [
             0.6666666666666666,
             "#ed7953"
            ],
            [
             0.7777777777777778,
             "#fb9f3a"
            ],
            [
             0.8888888888888888,
             "#fdca26"
            ],
            [
             1,
             "#f0f921"
            ]
           ],
           "sequentialminus": [
            [
             0,
             "#0d0887"
            ],
            [
             0.1111111111111111,
             "#46039f"
            ],
            [
             0.2222222222222222,
             "#7201a8"
            ],
            [
             0.3333333333333333,
             "#9c179e"
            ],
            [
             0.4444444444444444,
             "#bd3786"
            ],
            [
             0.5555555555555556,
             "#d8576b"
            ],
            [
             0.6666666666666666,
             "#ed7953"
            ],
            [
             0.7777777777777778,
             "#fb9f3a"
            ],
            [
             0.8888888888888888,
             "#fdca26"
            ],
            [
             1,
             "#f0f921"
            ]
           ]
          },
          "colorway": [
           "#636efa",
           "#EF553B",
           "#00cc96",
           "#ab63fa",
           "#FFA15A",
           "#19d3f3",
           "#FF6692",
           "#B6E880",
           "#FF97FF",
           "#FECB52"
          ],
          "font": {
           "color": "#2a3f5f"
          },
          "geo": {
           "bgcolor": "white",
           "lakecolor": "white",
           "landcolor": "#E5ECF6",
           "showlakes": true,
           "showland": true,
           "subunitcolor": "white"
          },
          "hoverlabel": {
           "align": "left"
          },
          "hovermode": "closest",
          "mapbox": {
           "style": "light"
          },
          "paper_bgcolor": "white",
          "plot_bgcolor": "#E5ECF6",
          "polar": {
           "angularaxis": {
            "gridcolor": "white",
            "linecolor": "white",
            "ticks": ""
           },
           "bgcolor": "#E5ECF6",
           "radialaxis": {
            "gridcolor": "white",
            "linecolor": "white",
            "ticks": ""
           }
          },
          "scene": {
           "xaxis": {
            "backgroundcolor": "#E5ECF6",
            "gridcolor": "white",
            "gridwidth": 2,
            "linecolor": "white",
            "showbackground": true,
            "ticks": "",
            "zerolinecolor": "white"
           },
           "yaxis": {
            "backgroundcolor": "#E5ECF6",
            "gridcolor": "white",
            "gridwidth": 2,
            "linecolor": "white",
            "showbackground": true,
            "ticks": "",
            "zerolinecolor": "white"
           },
           "zaxis": {
            "backgroundcolor": "#E5ECF6",
            "gridcolor": "white",
            "gridwidth": 2,
            "linecolor": "white",
            "showbackground": true,
            "ticks": "",
            "zerolinecolor": "white"
           }
          },
          "shapedefaults": {
           "line": {
            "color": "#2a3f5f"
           }
          },
          "ternary": {
           "aaxis": {
            "gridcolor": "white",
            "linecolor": "white",
            "ticks": ""
           },
           "baxis": {
            "gridcolor": "white",
            "linecolor": "white",
            "ticks": ""
           },
           "bgcolor": "#E5ECF6",
           "caxis": {
            "gridcolor": "white",
            "linecolor": "white",
            "ticks": ""
           }
          },
          "title": {
           "x": 0.05
          },
          "xaxis": {
           "automargin": true,
           "gridcolor": "white",
           "linecolor": "white",
           "ticks": "",
           "title": {
            "standoff": 15
           },
           "zerolinecolor": "white",
           "zerolinewidth": 2
          },
          "yaxis": {
           "automargin": true,
           "gridcolor": "white",
           "linecolor": "white",
           "ticks": "",
           "title": {
            "standoff": 15
           },
           "zerolinecolor": "white",
           "zerolinewidth": 2
          }
         }
        },
        "title": {
         "text": "SVM Results (Accuracy: 0.56)"
        },
        "xaxis": {
         "title": {
          "text": "Feature 1"
         }
        },
        "yaxis": {
         "title": {
          "text": "Feature 2"
         }
        }
       }
      }
     },
     "metadata": {},
     "output_type": "display_data"
    },
    {
     "name": "stdout",
     "output_type": "stream",
     "text": [
      "Cross-Validation Accuracy: 0.57 (+/- 0.00)\n"
     ]
    }
   ],
   "source": [
    "basicSVM(df[['TEAM1_ID', 'TEAM2_ID', 'DATE', 'TEAM1_10wp', 'TEAM1_25wp', 'TEAM1_50wp',\n",
    "       'TEAM1_75wp', 'TEAM1_100wp', 'TEAM2_10wp', 'TEAM2_25wp', 'TEAM2_50wp',\n",
    "       'TEAM2_75wp', 'TEAM2_100wp']],\n",
    "                df[[\"T1_WON\"]])"
   ]
  },
  {
   "cell_type": "code",
   "execution_count": 37,
   "metadata": {},
   "outputs": [
    {
     "data": {
      "image/png": "[encoded data removed]",
      "text/plain": [
       "<Figure size 640x480 with 1 Axes>"
      ]
     },
     "metadata": {},
     "output_type": "display_data"
    }
   ],
   "source": [
    "SVM_ROC(df[['TEAM1_ID', 'TEAM2_ID', 'DATE', 'TEAM1_10wp', 'TEAM1_25wp', 'TEAM1_50wp',\n",
    "       'TEAM1_75wp', 'TEAM1_100wp', 'TEAM2_10wp', 'TEAM2_25wp', 'TEAM2_50wp',\n",
    "       'TEAM2_75wp', 'TEAM2_100wp']],\n",
    "                df[[\"T1_WON\"]])"
   ]
  },
  {
   "cell_type": "code",
   "execution_count": null,
   "metadata": {},
   "outputs": [],
   "source": []
  }
 ],
 "metadata": {
  "kernelspec": {
   "display_name": "Python 3.9.6 64-bit",
   "language": "python",
   "name": "python3"
  },
  "language_info": {
   "codemirror_mode": {
    "name": "ipython",
    "version": 3
   },
   "file_extension": ".py",
   "mimetype": "text/x-python",
   "name": "python",
   "nbconvert_exporter": "python",
   "pygments_lexer": "ipython3",
   "version": "3.9.6"
  },
  "vscode": {
   "interpreter": {
    "hash": "31f2aee4e71d21fbe5cf8b01ff0e069b9275f58929596ceb00d14d90e3e16cd6"
   }
  }
 },
 "nbformat": 4,
 "nbformat_minor": 2
}
